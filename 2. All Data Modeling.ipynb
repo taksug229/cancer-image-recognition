{
 "cells": [
  {
   "cell_type": "markdown",
   "metadata": {},
   "source": [
    "## Import & Process Image"
   ]
  },
  {
   "cell_type": "code",
   "execution_count": 1,
   "metadata": {},
   "outputs": [],
   "source": [
    "import tensorflow as tf\n",
    "from tensorflow import keras\n",
    "import os\n",
    "import tempfile\n",
    "from tensorflow.keras.models import Sequential, Model\n",
    "from tensorflow.keras.layers import Conv2D, MaxPooling2D\n",
    "from tensorflow.keras.layers import Activation, Dropout, Flatten, Dense, Input\n",
    "\n",
    "import matplotlib as mpl\n",
    "import matplotlib.pyplot as plt\n",
    "%matplotlib inline\n",
    "import numpy as np\n",
    "import pandas as pd\n",
    "import seaborn as sns\n",
    "\n",
    "import sklearn\n",
    "from sklearn.metrics import confusion_matrix, roc_auc_score, roc_curve, auc\n",
    "from sklearn.model_selection import train_test_split\n",
    "from sklearn.preprocessing import StandardScaler\n",
    "from sklearn.utils import class_weight\n",
    "\n",
    "import glob\n",
    "\n",
    "# from src.functions import preprocess_image, load_and_preprocess_image\n",
    "\n",
    "AUTOTUNE = tf.data.experimental.AUTOTUNE ## tf.data transformation parameters\n",
    "\n",
    "pd.options.display.max_columns = 100"
   ]
  },
  {
   "cell_type": "markdown",
   "metadata": {},
   "source": [
    "## Data Cleaning"
   ]
  },
  {
   "cell_type": "code",
   "execution_count": 2,
   "metadata": {},
   "outputs": [],
   "source": [
    "img_url = sorted(glob.glob('data/ISIC-images'+\"/*.jpg\"))\n",
    "csv_names = [i for i in glob.glob('data'+'/*.csv')]\n",
    "df = pd.read_csv('data/metadata.csv')\n",
    "\n",
    "short=[]\n",
    "for i in img_url:\n",
    "    short.append(i[17:-4])\n",
    "img_name = pd.Series(short,name='name')\n",
    "\n",
    "df = pd.merge(df, img_name, on='name', how='inner')\n",
    "df['image'] = img_url\n",
    "\n",
    "df = df[['meta.clinical.diagnosis', 'image']]\n",
    "df_na = df.copy()\n",
    "df = df[df['meta.clinical.diagnosis'].notna()].reset_index(drop=True)\n",
    "df.columns = ['diagnosis', 'image']\n",
    "df['diagnosis'] = (df['diagnosis'] == 'melanoma').astype(int)"
   ]
  },
  {
   "cell_type": "markdown",
   "metadata": {},
   "source": [
    "#### Deleted null values from dataset"
   ]
  },
  {
   "cell_type": "code",
   "execution_count": 3,
   "metadata": {},
   "outputs": [
    {
     "data": {
      "text/html": [
       "<div>\n",
       "<style scoped>\n",
       "    .dataframe tbody tr th:only-of-type {\n",
       "        vertical-align: middle;\n",
       "    }\n",
       "\n",
       "    .dataframe tbody tr th {\n",
       "        vertical-align: top;\n",
       "    }\n",
       "\n",
       "    .dataframe thead th {\n",
       "        text-align: right;\n",
       "    }\n",
       "</style>\n",
       "<table border=\"1\" class=\"dataframe\">\n",
       "  <thead>\n",
       "    <tr style=\"text-align: right;\">\n",
       "      <th></th>\n",
       "      <th>meta.clinical.diagnosis</th>\n",
       "      <th>image</th>\n",
       "    </tr>\n",
       "  </thead>\n",
       "  <tbody>\n",
       "    <tr>\n",
       "      <th>257</th>\n",
       "      <td>NaN</td>\n",
       "      <td>data/ISIC-images/ISIC_0000257.jpg</td>\n",
       "    </tr>\n",
       "    <tr>\n",
       "      <th>454</th>\n",
       "      <td>NaN</td>\n",
       "      <td>data/ISIC-images/ISIC_0000454.jpg</td>\n",
       "    </tr>\n",
       "    <tr>\n",
       "      <th>9892</th>\n",
       "      <td>NaN</td>\n",
       "      <td>data/ISIC-images/ISIC_0009892.jpg</td>\n",
       "    </tr>\n",
       "    <tr>\n",
       "      <th>9893</th>\n",
       "      <td>NaN</td>\n",
       "      <td>data/ISIC-images/ISIC_0009893.jpg</td>\n",
       "    </tr>\n",
       "    <tr>\n",
       "      <th>9924</th>\n",
       "      <td>NaN</td>\n",
       "      <td>data/ISIC-images/ISIC_0009924.jpg</td>\n",
       "    </tr>\n",
       "    <tr>\n",
       "      <th>...</th>\n",
       "      <td>...</td>\n",
       "      <td>...</td>\n",
       "    </tr>\n",
       "    <tr>\n",
       "      <th>13786</th>\n",
       "      <td>NaN</td>\n",
       "      <td>data/ISIC-images/ISIC_0024202.jpg</td>\n",
       "    </tr>\n",
       "    <tr>\n",
       "      <th>13787</th>\n",
       "      <td>NaN</td>\n",
       "      <td>data/ISIC-images/ISIC_0024203.jpg</td>\n",
       "    </tr>\n",
       "    <tr>\n",
       "      <th>13788</th>\n",
       "      <td>NaN</td>\n",
       "      <td>data/ISIC-images/ISIC_0024204.jpg</td>\n",
       "    </tr>\n",
       "    <tr>\n",
       "      <th>13789</th>\n",
       "      <td>NaN</td>\n",
       "      <td>data/ISIC-images/ISIC_0024205.jpg</td>\n",
       "    </tr>\n",
       "    <tr>\n",
       "      <th>13790</th>\n",
       "      <td>NaN</td>\n",
       "      <td>data/ISIC-images/ISIC_0024206.jpg</td>\n",
       "    </tr>\n",
       "  </tbody>\n",
       "</table>\n",
       "<p>249 rows × 2 columns</p>\n",
       "</div>"
      ],
      "text/plain": [
       "      meta.clinical.diagnosis                              image\n",
       "257                       NaN  data/ISIC-images/ISIC_0000257.jpg\n",
       "454                       NaN  data/ISIC-images/ISIC_0000454.jpg\n",
       "9892                      NaN  data/ISIC-images/ISIC_0009892.jpg\n",
       "9893                      NaN  data/ISIC-images/ISIC_0009893.jpg\n",
       "9924                      NaN  data/ISIC-images/ISIC_0009924.jpg\n",
       "...                       ...                                ...\n",
       "13786                     NaN  data/ISIC-images/ISIC_0024202.jpg\n",
       "13787                     NaN  data/ISIC-images/ISIC_0024203.jpg\n",
       "13788                     NaN  data/ISIC-images/ISIC_0024204.jpg\n",
       "13789                     NaN  data/ISIC-images/ISIC_0024205.jpg\n",
       "13790                     NaN  data/ISIC-images/ISIC_0024206.jpg\n",
       "\n",
       "[249 rows x 2 columns]"
      ]
     },
     "execution_count": 3,
     "metadata": {},
     "output_type": "execute_result"
    }
   ],
   "source": [
    "df_na[df_na['meta.clinical.diagnosis'].isna()]"
   ]
  },
  {
   "cell_type": "markdown",
   "metadata": {},
   "source": [
    "##### df = All dataset"
   ]
  },
  {
   "cell_type": "markdown",
   "metadata": {},
   "source": [
    "## EDA"
   ]
  },
  {
   "cell_type": "code",
   "execution_count": 4,
   "metadata": {},
   "outputs": [],
   "source": [
    "diagnosis = df['diagnosis']"
   ]
  },
  {
   "cell_type": "code",
   "execution_count": 5,
   "metadata": {},
   "outputs": [
    {
     "data": {
      "image/png": "[encoded data removed]",
      "text/plain": [
       "<Figure size 576x576 with 1 Axes>"
      ]
     },
     "metadata": {
      "needs_background": "light"
     },
     "output_type": "display_data"
    }
   ],
   "source": [
    "fig, ax = plt.subplots(figsize=(8,8))\n",
    "xlabel = 25\n",
    "xtick = 14\n",
    "x0 = (diagnosis==0).sum()\n",
    "x1 = (diagnosis==1).sum()\n",
    "\n",
    "ax.set_xlabel('Diagnosis Distribution', size=xlabel)\n",
    "\n",
    "ax.bar(0, x0, color = 'b', label='Not Cancer')\n",
    "ax.bar(1, x1, color = 'r', label='Cancer')\n",
    "ax.set_xticks([0,1])\n",
    "ax.set_xticklabels(['Not Cancer: 90%', 'Cancer: 10%'], size=xtick)\n",
    "plt.legend(prop={'size': 15})\n",
    "plt.show()"
   ]
  },
  {
   "cell_type": "markdown",
   "metadata": {},
   "source": [
    "## Pipeline"
   ]
  },
  {
   "cell_type": "code",
   "execution_count": 8,
   "metadata": {},
   "outputs": [],
   "source": [
    "def preprocess_image(image, imgage_shape=[100,100]):\n",
    "    image = tf.image.decode_jpeg(image, channels=3)\n",
    "    image = tf.image.resize(image, imgage_shape)\n",
    "    image /= 255.0  # normalize to [0,1] range\n",
    "    return image\n",
    "\n",
    "def load_and_preprocess_image(path):\n",
    "    image = tf.io.read_file(path)\n",
    "    return preprocess_image(image)\n",
    "\n",
    "def create_X_y(df):\n",
    "    y = df['diagnosis']\n",
    "    X = []\n",
    "    for i in df['image']:\n",
    "        image = load_and_preprocess_image(i)\n",
    "        X.append(np.asarray(image))\n",
    "    return np.asarray(X), np.asarray(y)"
   ]
  },
  {
   "cell_type": "markdown",
   "metadata": {},
   "source": [
    "#### Creating Test Set and Save processed image set"
   ]
  },
  {
   "cell_type": "code",
   "execution_count": 27,
   "metadata": {},
   "outputs": [],
   "source": [
    "# Code to create X and y.\n",
    "# X, y = create_X_y(df)"
   ]
  },
  {
   "cell_type": "code",
   "execution_count": 24,
   "metadata": {},
   "outputs": [],
   "source": [
    "# np.save('data/100x100.npy', X)"
   ]
  },
  {
   "cell_type": "markdown",
   "metadata": {},
   "source": [
    "#### Train Test Split for Train, validation, test set"
   ]
  },
  {
   "cell_type": "code",
   "execution_count": 29,
   "metadata": {},
   "outputs": [],
   "source": [
    "X = np.load('data/100x100.npy')\n",
    "y = np.asarray(df['diagnosis'])"
   ]
  },
  {
   "cell_type": "code",
   "execution_count": 42,
   "metadata": {},
   "outputs": [],
   "source": [
    "# Train/test split for Train Set\n",
    "XX_train, X_test, yy_train, y_test = train_test_split(X, y, test_size=0.2, random_state=42, stratify=y)\n",
    "X_train, X_val, y_train, y_val = train_test_split(XX_train, yy_train, test_size=0.2, random_state=42, stratify=yy_train)"
   ]
  },
  {
   "cell_type": "markdown",
   "metadata": {},
   "source": [
    "#### Train Model"
   ]
  },
  {
   "cell_type": "code",
   "execution_count": 77,
   "metadata": {},
   "outputs": [],
   "source": [
    "model = Sequential()\n",
    "model.add(Conv2D(32, (3, 3), input_shape=(100,100,3)))\n",
    "model.add(Activation('relu'))\n",
    "model.add(MaxPooling2D(pool_size=(2, 2)))\n",
    "\n",
    "model.add(Conv2D(32, (3, 3)))\n",
    "model.add(Activation('relu'))\n",
    "model.add(MaxPooling2D(pool_size=(2, 2)))\n",
    "\n",
    "model.add(Conv2D(64, (3, 3)))\n",
    "model.add(Activation('relu'))\n",
    "model.add(MaxPooling2D(pool_size=(2, 2)))\n",
    "\n",
    "model.add(Flatten())  # this converts our 3D feature maps to 1D feature vectors\n",
    "model.add(Dense(64))\n",
    "model.add(Activation('relu'))\n",
    "model.add(Dropout(0.4))\n",
    "model.add(Dense(1))\n",
    "model.add(Activation('sigmoid'))"
   ]
  },
  {
   "cell_type": "code",
   "execution_count": 78,
   "metadata": {},
   "outputs": [],
   "source": [
    "model.compile(optimizer='adam',\n",
    "              loss='binary_crossentropy',\n",
    "              metrics=['accuracy'])"
   ]
  },
  {
   "cell_type": "code",
   "execution_count": 69,
   "metadata": {},
   "outputs": [],
   "source": [
    "zeros = (y_train==0).sum()\n",
    "ones = (y_train==1).sum()"
   ]
  },
  {
   "cell_type": "code",
   "execution_count": 70,
   "metadata": {},
   "outputs": [
    {
     "data": {
      "text/plain": [
       "0.09162978133051464"
      ]
     },
     "execution_count": 70,
     "metadata": {},
     "output_type": "execute_result"
    }
   ],
   "source": [
    "ones/ (ones+zeros)"
   ]
  },
  {
   "cell_type": "code",
   "execution_count": 76,
   "metadata": {},
   "outputs": [
    {
     "data": {
      "text/plain": [
       "0.9083702186694854"
      ]
     },
     "execution_count": 76,
     "metadata": {},
     "output_type": "execute_result"
    }
   ],
   "source": [
    "zeros/ (ones+zeros)"
   ]
  },
  {
   "cell_type": "code",
   "execution_count": 79,
   "metadata": {},
   "outputs": [],
   "source": [
    "class_weight = {1:0.9,\n",
    "                0:0.1}"
   ]
  },
  {
   "cell_type": "code",
   "execution_count": 80,
   "metadata": {},
   "outputs": [
    {
     "name": "stdout",
     "output_type": "stream",
     "text": [
      "Epoch 1/10\n",
      "474/474 [==============================] - 56s 117ms/step - loss: 0.1037 - accuracy: 0.5996 - val_loss: 0.6833 - val_accuracy: 0.4259\n",
      "Epoch 2/10\n",
      "474/474 [==============================] - 55s 115ms/step - loss: 0.0934 - accuracy: 0.5890 - val_loss: 0.3939 - val_accuracy: 0.7523\n",
      "Epoch 3/10\n",
      "474/474 [==============================] - 55s 116ms/step - loss: 0.0945 - accuracy: 0.6119 - val_loss: 0.4586 - val_accuracy: 0.7377\n",
      "Epoch 4/10\n",
      "474/474 [==============================] - 55s 115ms/step - loss: 0.0867 - accuracy: 0.5915 - val_loss: 0.4800 - val_accuracy: 0.6413\n",
      "Epoch 5/10\n",
      "474/474 [==============================] - 55s 115ms/step - loss: 0.0851 - accuracy: 0.5852 - val_loss: 0.3724 - val_accuracy: 0.8134\n",
      "Epoch 6/10\n",
      "474/474 [==============================] - 55s 115ms/step - loss: 0.0862 - accuracy: 0.5962 - val_loss: 0.5375 - val_accuracy: 0.6426\n",
      "Epoch 7/10\n",
      "474/474 [==============================] - 55s 115ms/step - loss: 0.0814 - accuracy: 0.6571 - val_loss: 0.5591 - val_accuracy: 0.5529\n",
      "Epoch 8/10\n",
      "474/474 [==============================] - 55s 115ms/step - loss: 0.0826 - accuracy: 0.6184 - val_loss: 0.5688 - val_accuracy: 0.5487\n",
      "Epoch 9/10\n",
      "474/474 [==============================] - 55s 116ms/step - loss: 0.0785 - accuracy: 0.6941 - val_loss: 0.3465 - val_accuracy: 0.8224\n",
      "Epoch 10/10\n",
      "474/474 [==============================] - 55s 115ms/step - loss: 0.0736 - accuracy: 0.7149 - val_loss: 0.4080 - val_accuracy: 0.7049\n"
     ]
    }
   ],
   "source": [
    "history = model.fit(X_train, y_train, epochs=10, class_weight=class_weight, validation_data=(X_test, y_test))"
   ]
  },
  {
   "cell_type": "code",
   "execution_count": 81,
   "metadata": {},
   "outputs": [
    {
     "data": {
      "image/png": "[encoded data removed]",
      "text/plain": [
       "<Figure size 432x288 with 1 Axes>"
      ]
     },
     "metadata": {
      "needs_background": "light"
     },
     "output_type": "display_data"
    }
   ],
   "source": [
    "# summarize history for accuracy\n",
    "plt.plot(history.history['accuracy'])\n",
    "plt.plot(history.history['val_accuracy'])\n",
    "plt.title('model accuracy')\n",
    "plt.ylabel('accuracy')\n",
    "plt.xlabel('epoch')\n",
    "plt.legend(['Train', 'Test'], loc='upper left')\n",
    "plt.show()"
   ]
  },
  {
   "cell_type": "code",
   "execution_count": 82,
   "metadata": {},
   "outputs": [
    {
     "data": {
      "image/png": "[encoded data removed]",
      "text/plain": [
       "<Figure size 432x288 with 1 Axes>"
      ]
     },
     "metadata": {
      "needs_background": "light"
     },
     "output_type": "display_data"
    }
   ],
   "source": [
    "plt.plot(history.history['loss'])\n",
    "plt.plot(history.history['val_loss'])\n",
    "plt.title('model loss')\n",
    "plt.ylabel('loss')\n",
    "plt.xlabel('epoch')\n",
    "plt.legend(['Train', 'Test'], loc='upper left')\n",
    "plt.show()"
   ]
  },
  {
   "cell_type": "code",
   "execution_count": 83,
   "metadata": {},
   "outputs": [
    {
     "name": "stdout",
     "output_type": "stream",
     "text": [
      "Model: \"sequential_3\"\n",
      "_________________________________________________________________\n",
      "Layer (type)                 Output Shape              Param #   \n",
      "=================================================================\n",
      "conv2d_9 (Conv2D)            (None, 98, 98, 32)        896       \n",
      "_________________________________________________________________\n",
      "activation_15 (Activation)   (None, 98, 98, 32)        0         \n",
      "_________________________________________________________________\n",
      "max_pooling2d_9 (MaxPooling2 (None, 49, 49, 32)        0         \n",
      "_________________________________________________________________\n",
      "conv2d_10 (Conv2D)           (None, 47, 47, 32)        9248      \n",
      "_________________________________________________________________\n",
      "activation_16 (Activation)   (None, 47, 47, 32)        0         \n",
      "_________________________________________________________________\n",
      "max_pooling2d_10 (MaxPooling (None, 23, 23, 32)        0         \n",
      "_________________________________________________________________\n",
      "conv2d_11 (Conv2D)           (None, 21, 21, 64)        18496     \n",
      "_________________________________________________________________\n",
      "activation_17 (Activation)   (None, 21, 21, 64)        0         \n",
      "_________________________________________________________________\n",
      "max_pooling2d_11 (MaxPooling (None, 10, 10, 64)        0         \n",
      "_________________________________________________________________\n",
      "flatten_3 (Flatten)          (None, 6400)              0         \n",
      "_________________________________________________________________\n",
      "dense_6 (Dense)              (None, 64)                409664    \n",
      "_________________________________________________________________\n",
      "activation_18 (Activation)   (None, 64)                0         \n",
      "_________________________________________________________________\n",
      "dropout_3 (Dropout)          (None, 64)                0         \n",
      "_________________________________________________________________\n",
      "dense_7 (Dense)              (None, 1)                 65        \n",
      "_________________________________________________________________\n",
      "activation_19 (Activation)   (None, 1)                 0         \n",
      "=================================================================\n",
      "Total params: 438,369\n",
      "Trainable params: 438,369\n",
      "Non-trainable params: 0\n",
      "_________________________________________________________________\n"
     ]
    }
   ],
   "source": [
    "model.summary()"
   ]
  },
  {
   "cell_type": "markdown",
   "metadata": {},
   "source": [
    "## Evalaution"
   ]
  },
  {
   "cell_type": "code",
   "execution_count": 84,
   "metadata": {},
   "outputs": [],
   "source": [
    "def matrix_score(y_test, y_pred):\n",
    "    tn, fp, fn, tp = confusion_matrix(y_test, y_pred).ravel()\n",
    "    print(np.array([[tp, fn],[fp, tn]]))\n",
    "    print('Recall:    {:.2f}'.format(tp/(tp+fn)))\n",
    "    print('Precision: {:.2f}'.format(tp/(tp+fp)))\n",
    "    print('Accuracy:  {:.2f}'.format((tp+tn)/(tp+tn+fp+fn)))\n",
    "    print('ROC AUC:   {:.2f}'.format(roc_auc_score(y_test, y_pred)))"
   ]
  },
  {
   "cell_type": "code",
   "execution_count": 85,
   "metadata": {
    "scrolled": true
   },
   "outputs": [
    {
     "name": "stdout",
     "output_type": "stream",
     "text": [
      "Validation set accuracy 71.78%\n",
      "Test set accuracy 70.49%\n"
     ]
    }
   ],
   "source": [
    "# Validation Set\n",
    "val_loss1, val_acc = model.evaluate(X_val, y_val, verbose=0)\n",
    "print('Validation set accuracy {:5.2f}%'.format(100*val_acc))\n",
    "# Test Set\n",
    "test_loss, test_acc = model.evaluate(X_test, y_test, verbose=0)\n",
    "print('Test set accuracy {:5.2f}%'.format(100*test_acc))"
   ]
  },
  {
   "cell_type": "code",
   "execution_count": 93,
   "metadata": {},
   "outputs": [],
   "source": [
    "threshold = 0.5"
   ]
  },
  {
   "cell_type": "code",
   "execution_count": 94,
   "metadata": {},
   "outputs": [
    {
     "name": "stdout",
     "output_type": "stream",
     "text": [
      "[[ 305   42]\n",
      " [1026 2412]]\n",
      "Recall:    0.88\n",
      "Precision: 0.23\n",
      "Accuracy:  0.72\n",
      "ROC AUC:   0.79\n"
     ]
    }
   ],
   "source": [
    "# Validation Set\n",
    "result = (model.predict(X_val) > threshold).astype(int)\n",
    "result =[i[0] for i in result]\n",
    "y_val_pred = np.asarray(result)\n",
    "\n",
    "matrix_score(y_val, y_val_pred)"
   ]
  },
  {
   "cell_type": "code",
   "execution_count": 95,
   "metadata": {},
   "outputs": [
    {
     "name": "stdout",
     "output_type": "stream",
     "text": [
      "[[ 382   52]\n",
      " [1344 2953]]\n",
      "Recall:    0.88\n",
      "Precision: 0.22\n",
      "Accuracy:  0.70\n",
      "ROC AUC:   0.78\n"
     ]
    }
   ],
   "source": [
    "# Test Set\n",
    "result = (model.predict(X_test) > threshold).astype(int)\n",
    "result =[i[0] for i in result]\n",
    "y_test_pred = np.asarray(result)\n",
    "\n",
    "matrix_score(y_test, y_test_pred)"
   ]
  },
  {
   "cell_type": "code",
   "execution_count": 96,
   "metadata": {},
   "outputs": [
    {
     "data": {
      "image/png": "[encoded data removed]",
      "text/plain": [
       "<Figure size 432x288 with 1 Axes>"
      ]
     },
     "metadata": {
      "needs_background": "light"
     },
     "output_type": "display_data"
    }
   ],
   "source": [
    "fpr, tpr, threshold = roc_curve(y_test, y_test_pred)\n",
    "roc_auc = auc(fpr, tpr)\n",
    "\n",
    "plt.title('Receiver Operating Characteristic')\n",
    "plt.plot(fpr, tpr, 'b', label = 'AUC = %0.2f' % roc_auc)\n",
    "plt.legend(loc = 'lower right')\n",
    "plt.plot([0, 1], [0, 1],'r--')\n",
    "plt.xlim([0, 1])\n",
    "plt.ylim([0, 1])\n",
    "plt.ylabel('True Positive Rate')\n",
    "plt.xlabel('False Positive Rate')\n",
    "plt.show()"
   ]
  },
  {
   "cell_type": "code",
   "execution_count": null,
   "metadata": {},
   "outputs": [],
   "source": []
  }
 ],
 "metadata": {
  "kernelspec": {
   "display_name": "Python 3",
   "language": "python",
   "name": "python3"
  },
  "language_info": {
   "codemirror_mode": {
    "name": "ipython",
    "version": 3
   },
   "file_extension": ".py",
   "mimetype": "text/x-python",
   "name": "python",
   "nbconvert_exporter": "python",
   "pygments_lexer": "ipython3",
   "version": "3.7.6"
  }
 },
 "nbformat": 4,
 "nbformat_minor": 4
}
