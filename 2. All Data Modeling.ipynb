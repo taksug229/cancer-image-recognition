{
 "cells": [
  {
   "cell_type": "markdown",
   "metadata": {},
   "source": [
    "## Import & Process Image"
   ]
  },
  {
   "cell_type": "code",
   "execution_count": 1,
   "metadata": {},
   "outputs": [],
   "source": [
    "import tensorflow as tf\n",
    "from tensorflow import keras\n",
    "import os\n",
    "import tempfile\n",
    "from tensorflow.keras.models import Sequential, Model\n",
    "from tensorflow.keras.layers import Conv2D, MaxPooling2D\n",
    "from tensorflow.keras.layers import Activation, Dropout, Flatten, Dense, Input\n",
    "\n",
    "\n",
    "import matplotlib as mpl\n",
    "import matplotlib.pyplot as plt\n",
    "%matplotlib inline\n",
    "import numpy as np\n",
    "import pandas as pd\n",
    "import seaborn as sns\n",
    "\n",
    "import sklearn\n",
    "from sklearn.metrics import confusion_matrix, roc_auc_score, roc_curve, auc\n",
    "from sklearn.model_selection import train_test_split\n",
    "from sklearn.preprocessing import StandardScaler\n",
    "from sklearn.utils import class_weight\n",
    "\n",
    "import glob\n",
    "\n",
    "# from src.functions import preprocess_image, load_and_preprocess_image\n",
    "\n",
    "AUTOTUNE = tf.data.experimental.AUTOTUNE ## tf.data transformation parameters\n",
    "\n",
    "pd.options.display.max_columns = 100"
   ]
  },
  {
   "cell_type": "markdown",
   "metadata": {},
   "source": [
    "## Data Cleaning"
   ]
  },
  {
   "cell_type": "code",
   "execution_count": 2,
   "metadata": {},
   "outputs": [],
   "source": [
    "img_url = sorted(glob.glob('data/ISIC-images'+\"/*.jpg\"))\n",
    "csv_names = [i for i in glob.glob('data'+'/*.csv')]\n",
    "df = pd.read_csv('data/metadata.csv')\n",
    "\n",
    "short=[]\n",
    "for i in img_url:\n",
    "    short.append(i[17:-4])\n",
    "img_name = pd.Series(short,name='name')\n",
    "\n",
    "df = pd.merge(df, img_name, on='name', how='inner')\n",
    "df['image'] = img_url\n",
    "\n",
    "df = df[['meta.clinical.diagnosis', 'image']]\n",
    "df_na = df.copy()\n",
    "df = df[df['meta.clinical.diagnosis'].notna()].reset_index(drop=True)\n",
    "df.columns = ['diagnosis', 'image']\n",
    "df['diagnosis'] = (df['diagnosis'] == 'melanoma').astype(int)"
   ]
  },
  {
   "cell_type": "markdown",
   "metadata": {},
   "source": [
    "#### Deleted null values from dataset"
   ]
  },
  {
   "cell_type": "code",
   "execution_count": 3,
   "metadata": {},
   "outputs": [
    {
     "data": {
      "text/html": [
       "<div>\n",
       "<style scoped>\n",
       "    .dataframe tbody tr th:only-of-type {\n",
       "        vertical-align: middle;\n",
       "    }\n",
       "\n",
       "    .dataframe tbody tr th {\n",
       "        vertical-align: top;\n",
       "    }\n",
       "\n",
       "    .dataframe thead th {\n",
       "        text-align: right;\n",
       "    }\n",
       "</style>\n",
       "<table border=\"1\" class=\"dataframe\">\n",
       "  <thead>\n",
       "    <tr style=\"text-align: right;\">\n",
       "      <th></th>\n",
       "      <th>meta.clinical.diagnosis</th>\n",
       "      <th>image</th>\n",
       "    </tr>\n",
       "  </thead>\n",
       "  <tbody>\n",
       "    <tr>\n",
       "      <th>257</th>\n",
       "      <td>NaN</td>\n",
       "      <td>data/ISIC-images/ISIC_0000257.jpg</td>\n",
       "    </tr>\n",
       "    <tr>\n",
       "      <th>454</th>\n",
       "      <td>NaN</td>\n",
       "      <td>data/ISIC-images/ISIC_0000454.jpg</td>\n",
       "    </tr>\n",
       "    <tr>\n",
       "      <th>9892</th>\n",
       "      <td>NaN</td>\n",
       "      <td>data/ISIC-images/ISIC_0009892.jpg</td>\n",
       "    </tr>\n",
       "    <tr>\n",
       "      <th>9893</th>\n",
       "      <td>NaN</td>\n",
       "      <td>data/ISIC-images/ISIC_0009893.jpg</td>\n",
       "    </tr>\n",
       "    <tr>\n",
       "      <th>9924</th>\n",
       "      <td>NaN</td>\n",
       "      <td>data/ISIC-images/ISIC_0009924.jpg</td>\n",
       "    </tr>\n",
       "    <tr>\n",
       "      <th>...</th>\n",
       "      <td>...</td>\n",
       "      <td>...</td>\n",
       "    </tr>\n",
       "    <tr>\n",
       "      <th>13786</th>\n",
       "      <td>NaN</td>\n",
       "      <td>data/ISIC-images/ISIC_0024202.jpg</td>\n",
       "    </tr>\n",
       "    <tr>\n",
       "      <th>13787</th>\n",
       "      <td>NaN</td>\n",
       "      <td>data/ISIC-images/ISIC_0024203.jpg</td>\n",
       "    </tr>\n",
       "    <tr>\n",
       "      <th>13788</th>\n",
       "      <td>NaN</td>\n",
       "      <td>data/ISIC-images/ISIC_0024204.jpg</td>\n",
       "    </tr>\n",
       "    <tr>\n",
       "      <th>13789</th>\n",
       "      <td>NaN</td>\n",
       "      <td>data/ISIC-images/ISIC_0024205.jpg</td>\n",
       "    </tr>\n",
       "    <tr>\n",
       "      <th>13790</th>\n",
       "      <td>NaN</td>\n",
       "      <td>data/ISIC-images/ISIC_0024206.jpg</td>\n",
       "    </tr>\n",
       "  </tbody>\n",
       "</table>\n",
       "<p>249 rows × 2 columns</p>\n",
       "</div>"
      ],
      "text/plain": [
       "      meta.clinical.diagnosis                              image\n",
       "257                       NaN  data/ISIC-images/ISIC_0000257.jpg\n",
       "454                       NaN  data/ISIC-images/ISIC_0000454.jpg\n",
       "9892                      NaN  data/ISIC-images/ISIC_0009892.jpg\n",
       "9893                      NaN  data/ISIC-images/ISIC_0009893.jpg\n",
       "9924                      NaN  data/ISIC-images/ISIC_0009924.jpg\n",
       "...                       ...                                ...\n",
       "13786                     NaN  data/ISIC-images/ISIC_0024202.jpg\n",
       "13787                     NaN  data/ISIC-images/ISIC_0024203.jpg\n",
       "13788                     NaN  data/ISIC-images/ISIC_0024204.jpg\n",
       "13789                     NaN  data/ISIC-images/ISIC_0024205.jpg\n",
       "13790                     NaN  data/ISIC-images/ISIC_0024206.jpg\n",
       "\n",
       "[249 rows x 2 columns]"
      ]
     },
     "execution_count": 3,
     "metadata": {},
     "output_type": "execute_result"
    }
   ],
   "source": [
    "df_na[df_na['meta.clinical.diagnosis'].isna()]"
   ]
  },
  {
   "cell_type": "markdown",
   "metadata": {},
   "source": [
    "##### df = All dataset"
   ]
  },
  {
   "cell_type": "markdown",
   "metadata": {},
   "source": [
    "## EDA"
   ]
  },
  {
   "cell_type": "code",
   "execution_count": 4,
   "metadata": {},
   "outputs": [],
   "source": [
    "diagnosis = df['diagnosis']"
   ]
  },
  {
   "cell_type": "code",
   "execution_count": 20,
   "metadata": {},
   "outputs": [
    {
     "data": {
      "image/png": "[encoded data removed]",
      "text/plain": [
       "<Figure size 576x576 with 1 Axes>"
      ]
     },
     "metadata": {
      "needs_background": "light"
     },
     "output_type": "display_data"
    }
   ],
   "source": [
    "fig, ax = plt.subplots(figsize=(8,8))\n",
    "xlabel = 25\n",
    "xtick = 14\n",
    "x0 = (diagnosis==0).sum()\n",
    "x1 = (diagnosis==1).sum()\n",
    "\n",
    "ax.set_xlabel('Diagnosis Distribution', size=xlabel)\n",
    "\n",
    "ax.bar(0, x0, color = 'b', label='Not Cancer')\n",
    "ax.bar(1, x1, color = 'r', label='Cancer')\n",
    "ax.set_xticks([0,1])\n",
    "ax.set_xticklabels(['Not Cancer: 90%', 'Cancer: 10%'], size=xtick)\n",
    "plt.legend(prop={'size': 15})\n",
    "plt.show()"
   ]
  },
  {
   "cell_type": "markdown",
   "metadata": {},
   "source": [
    "## Pipeline"
   ]
  },
  {
   "cell_type": "code",
   "execution_count": 6,
   "metadata": {},
   "outputs": [],
   "source": [
    "def preprocess_image(image, imgage_shape=[100,100]):\n",
    "    image = tf.image.decode_jpeg(image, channels=3)\n",
    "    image = tf.image.resize(image, imgage_shape)\n",
    "    image /= 255.0  # normalize to [0,1] range\n",
    "    return image\n",
    "\n",
    "def load_and_preprocess_image(path):\n",
    "    image = tf.io.read_file(path)\n",
    "    return preprocess_image(image)"
   ]
  },
  {
   "cell_type": "code",
   "execution_count": 24,
   "metadata": {},
   "outputs": [],
   "source": [
    "def import_dataset(img_path, data_path):\n",
    "    img_url = sorted(glob.glob(img_path+\"/*.jpg\"))\n",
    "    csv_names = [i for i in glob.glob(data_path+'/*.csv')]\n",
    "    df = pd.concat([pd.read_csv(f) for f in csv_names]).sort_values('name').reset_index(drop=True)\n",
    "    df['image'] = img_url\n",
    "    return df\n",
    "\n",
    "def clean_dataset(df):\n",
    "    dataset = df.copy()\n",
    "    dataset = dataset[['meta.clinical.diagnosis', 'image']]\n",
    "    dataset = dataset[dataset['meta.clinical.diagnosis'].notna()].reset_index(drop=True)\n",
    "    dataset.columns = ['diagnosis', 'image']\n",
    "    dataset['diagnosis'] = (dataset['diagnosis'] == 'melanoma').astype(int)\n",
    "    return dataset\n",
    "\n",
    "def create_X_y(df):\n",
    "    y = df['diagnosis']\n",
    "    X = []\n",
    "    for i in df['image']:\n",
    "        image = load_and_preprocess_image(i)\n",
    "        X.append(np.asarray(image))\n",
    "    return np.asarray(X), np.asarray(y)"
   ]
  },
  {
   "cell_type": "markdown",
   "metadata": {},
   "source": [
    "#### Creating Test Set"
   ]
  },
  {
   "cell_type": "code",
   "execution_count": 18,
   "metadata": {},
   "outputs": [
    {
     "data": {
      "text/html": [
       "<div>\n",
       "<style scoped>\n",
       "    .dataframe tbody tr th:only-of-type {\n",
       "        vertical-align: middle;\n",
       "    }\n",
       "\n",
       "    .dataframe tbody tr th {\n",
       "        vertical-align: top;\n",
       "    }\n",
       "\n",
       "    .dataframe thead th {\n",
       "        text-align: right;\n",
       "    }\n",
       "</style>\n",
       "<table border=\"1\" class=\"dataframe\">\n",
       "  <thead>\n",
       "    <tr style=\"text-align: right;\">\n",
       "      <th></th>\n",
       "      <th>diagnosis</th>\n",
       "      <th>image</th>\n",
       "    </tr>\n",
       "  </thead>\n",
       "  <tbody>\n",
       "    <tr>\n",
       "      <th>0</th>\n",
       "      <td>0</td>\n",
       "      <td>data/ISIC-images/ISIC_0000000.jpg</td>\n",
       "    </tr>\n",
       "    <tr>\n",
       "      <th>1</th>\n",
       "      <td>0</td>\n",
       "      <td>data/ISIC-images/ISIC_0000001.jpg</td>\n",
       "    </tr>\n",
       "    <tr>\n",
       "      <th>2</th>\n",
       "      <td>1</td>\n",
       "      <td>data/ISIC-images/ISIC_0000002.jpg</td>\n",
       "    </tr>\n",
       "    <tr>\n",
       "      <th>3</th>\n",
       "      <td>0</td>\n",
       "      <td>data/ISIC-images/ISIC_0000003.jpg</td>\n",
       "    </tr>\n",
       "    <tr>\n",
       "      <th>4</th>\n",
       "      <td>1</td>\n",
       "      <td>data/ISIC-images/ISIC_0000004.jpg</td>\n",
       "    </tr>\n",
       "    <tr>\n",
       "      <th>...</th>\n",
       "      <td>...</td>\n",
       "      <td>...</td>\n",
       "    </tr>\n",
       "    <tr>\n",
       "      <th>23648</th>\n",
       "      <td>1</td>\n",
       "      <td>data/ISIC-images/ISIC_0034316.jpg</td>\n",
       "    </tr>\n",
       "    <tr>\n",
       "      <th>23649</th>\n",
       "      <td>1</td>\n",
       "      <td>data/ISIC-images/ISIC_0034317.jpg</td>\n",
       "    </tr>\n",
       "    <tr>\n",
       "      <th>23650</th>\n",
       "      <td>0</td>\n",
       "      <td>data/ISIC-images/ISIC_0034318.jpg</td>\n",
       "    </tr>\n",
       "    <tr>\n",
       "      <th>23651</th>\n",
       "      <td>0</td>\n",
       "      <td>data/ISIC-images/ISIC_0034319.jpg</td>\n",
       "    </tr>\n",
       "    <tr>\n",
       "      <th>23652</th>\n",
       "      <td>0</td>\n",
       "      <td>data/ISIC-images/ISIC_0034320.jpg</td>\n",
       "    </tr>\n",
       "  </tbody>\n",
       "</table>\n",
       "<p>23653 rows × 2 columns</p>\n",
       "</div>"
      ],
      "text/plain": [
       "       diagnosis                              image\n",
       "0              0  data/ISIC-images/ISIC_0000000.jpg\n",
       "1              0  data/ISIC-images/ISIC_0000001.jpg\n",
       "2              1  data/ISIC-images/ISIC_0000002.jpg\n",
       "3              0  data/ISIC-images/ISIC_0000003.jpg\n",
       "4              1  data/ISIC-images/ISIC_0000004.jpg\n",
       "...          ...                                ...\n",
       "23648          1  data/ISIC-images/ISIC_0034316.jpg\n",
       "23649          1  data/ISIC-images/ISIC_0034317.jpg\n",
       "23650          0  data/ISIC-images/ISIC_0034318.jpg\n",
       "23651          0  data/ISIC-images/ISIC_0034319.jpg\n",
       "23652          0  data/ISIC-images/ISIC_0034320.jpg\n",
       "\n",
       "[23653 rows x 2 columns]"
      ]
     },
     "execution_count": 18,
     "metadata": {},
     "output_type": "execute_result"
    }
   ],
   "source": [
    "df"
   ]
  },
  {
   "cell_type": "code",
   "execution_count": 16,
   "metadata": {},
   "outputs": [
    {
     "data": {
      "text/plain": [
       "21485"
      ]
     },
     "execution_count": 16,
     "metadata": {},
     "output_type": "execute_result"
    }
   ],
   "source": [
    "(df['diagnosis']==0).sum()"
   ]
  },
  {
   "cell_type": "code",
   "execution_count": 17,
   "metadata": {},
   "outputs": [
    {
     "data": {
      "text/plain": [
       "2168"
      ]
     },
     "execution_count": 17,
     "metadata": {},
     "output_type": "execute_result"
    }
   ],
   "source": [
    "(df['diagnosis']==1).sum()"
   ]
  },
  {
   "cell_type": "code",
   "execution_count": 14,
   "metadata": {},
   "outputs": [
    {
     "data": {
      "text/plain": [
       "21485"
      ]
     },
     "execution_count": 14,
     "metadata": {},
     "output_type": "execute_result"
    }
   ],
   "source": [
    "df[df['diagnosis']==0]['diagnosis'].count()"
   ]
  },
  {
   "cell_type": "code",
   "execution_count": 22,
   "metadata": {},
   "outputs": [
    {
     "data": {
      "text/html": [
       "<div>\n",
       "<style scoped>\n",
       "    .dataframe tbody tr th:only-of-type {\n",
       "        vertical-align: middle;\n",
       "    }\n",
       "\n",
       "    .dataframe tbody tr th {\n",
       "        vertical-align: top;\n",
       "    }\n",
       "\n",
       "    .dataframe thead th {\n",
       "        text-align: right;\n",
       "    }\n",
       "</style>\n",
       "<table border=\"1\" class=\"dataframe\">\n",
       "  <thead>\n",
       "    <tr style=\"text-align: right;\">\n",
       "      <th></th>\n",
       "      <th>diagnosis</th>\n",
       "      <th>image</th>\n",
       "    </tr>\n",
       "  </thead>\n",
       "  <tbody>\n",
       "    <tr>\n",
       "      <th>0</th>\n",
       "      <td>0</td>\n",
       "      <td>data/ISIC-images/ISIC_0000000.jpg</td>\n",
       "    </tr>\n",
       "    <tr>\n",
       "      <th>1</th>\n",
       "      <td>0</td>\n",
       "      <td>data/ISIC-images/ISIC_0000001.jpg</td>\n",
       "    </tr>\n",
       "    <tr>\n",
       "      <th>2</th>\n",
       "      <td>1</td>\n",
       "      <td>data/ISIC-images/ISIC_0000002.jpg</td>\n",
       "    </tr>\n",
       "    <tr>\n",
       "      <th>3</th>\n",
       "      <td>0</td>\n",
       "      <td>data/ISIC-images/ISIC_0000003.jpg</td>\n",
       "    </tr>\n",
       "    <tr>\n",
       "      <th>4</th>\n",
       "      <td>1</td>\n",
       "      <td>data/ISIC-images/ISIC_0000004.jpg</td>\n",
       "    </tr>\n",
       "    <tr>\n",
       "      <th>...</th>\n",
       "      <td>...</td>\n",
       "      <td>...</td>\n",
       "    </tr>\n",
       "    <tr>\n",
       "      <th>23648</th>\n",
       "      <td>1</td>\n",
       "      <td>data/ISIC-images/ISIC_0034316.jpg</td>\n",
       "    </tr>\n",
       "    <tr>\n",
       "      <th>23649</th>\n",
       "      <td>1</td>\n",
       "      <td>data/ISIC-images/ISIC_0034317.jpg</td>\n",
       "    </tr>\n",
       "    <tr>\n",
       "      <th>23650</th>\n",
       "      <td>0</td>\n",
       "      <td>data/ISIC-images/ISIC_0034318.jpg</td>\n",
       "    </tr>\n",
       "    <tr>\n",
       "      <th>23651</th>\n",
       "      <td>0</td>\n",
       "      <td>data/ISIC-images/ISIC_0034319.jpg</td>\n",
       "    </tr>\n",
       "    <tr>\n",
       "      <th>23652</th>\n",
       "      <td>0</td>\n",
       "      <td>data/ISIC-images/ISIC_0034320.jpg</td>\n",
       "    </tr>\n",
       "  </tbody>\n",
       "</table>\n",
       "<p>23653 rows × 2 columns</p>\n",
       "</div>"
      ],
      "text/plain": [
       "       diagnosis                              image\n",
       "0              0  data/ISIC-images/ISIC_0000000.jpg\n",
       "1              0  data/ISIC-images/ISIC_0000001.jpg\n",
       "2              1  data/ISIC-images/ISIC_0000002.jpg\n",
       "3              0  data/ISIC-images/ISIC_0000003.jpg\n",
       "4              1  data/ISIC-images/ISIC_0000004.jpg\n",
       "...          ...                                ...\n",
       "23648          1  data/ISIC-images/ISIC_0034316.jpg\n",
       "23649          1  data/ISIC-images/ISIC_0034317.jpg\n",
       "23650          0  data/ISIC-images/ISIC_0034318.jpg\n",
       "23651          0  data/ISIC-images/ISIC_0034319.jpg\n",
       "23652          0  data/ISIC-images/ISIC_0034320.jpg\n",
       "\n",
       "[23653 rows x 2 columns]"
      ]
     },
     "execution_count": 22,
     "metadata": {},
     "output_type": "execute_result"
    }
   ],
   "source": [
    "df"
   ]
  },
  {
   "cell_type": "code",
   "execution_count": 25,
   "metadata": {},
   "outputs": [],
   "source": [
    "X, y = create_X_y(df)"
   ]
  },
  {
   "cell_type": "code",
   "execution_count": null,
   "metadata": {},
   "outputs": [],
   "source": []
  },
  {
   "cell_type": "code",
   "execution_count": null,
   "metadata": {},
   "outputs": [],
   "source": [
    "# Train/test split for Train Set\n",
    "train, test = train_test_split(X, y, test_size=0.2, random_state=42, stratify=y)"
   ]
  },
  {
   "cell_type": "code",
   "execution_count": 92,
   "metadata": {},
   "outputs": [],
   "source": [
    "# Importing and creating test set. Returns X & y.\n",
    "test_df = import_dataset('img_sample/img_test','data_sample/data_test')\n",
    "test_df_cleaned = clean_dataset(test_df)\n",
    "X_test, y_test = create_X_y(test_df_cleaned)"
   ]
  },
  {
   "cell_type": "markdown",
   "metadata": {},
   "source": [
    "#### Creating Train Set"
   ]
  },
  {
   "cell_type": "code",
   "execution_count": 93,
   "metadata": {},
   "outputs": [],
   "source": [
    "# Train Set\n",
    "path = \"img_sample/img_train\"\n",
    "negataive_img_names = sorted(glob.glob(path+\"/0/*.jpg\"))\n",
    "positive_img_names = sorted(glob.glob(path+\"/1/*.jpg\"))\n",
    "\n",
    "negative_csv =[i for i in glob.glob('data_sample/data_train/0/*.csv')]\n",
    "positive_csv =[i for i in glob.glob('data_sample/data_train/1/*.csv')]\n",
    "\n",
    "train_neg = pd.concat([pd.read_csv(f) for f in negative_csv]).sort_values('name').reset_index(drop=True)\n",
    "train_pos = pd.concat([pd.read_csv(f) for f in positive_csv]).sort_values('name').reset_index(drop=True)\n",
    "\n",
    "train_neg['image'] = negataive_img_names\n",
    "train_pos['image'] = positive_img_names"
   ]
  },
  {
   "cell_type": "code",
   "execution_count": 96,
   "metadata": {},
   "outputs": [],
   "source": [
    "# Train Set\n",
    "meta_train = pd.concat([train_neg, train_pos]).reset_index(drop=True)\n",
    "lbl_img = meta_train[['meta.clinical.diagnosis', 'image']]\n",
    "lbl_img_cl = lbl_img[lbl_img['meta.clinical.diagnosis'].notna()].reset_index(drop=True)\n",
    "lbl_img_cl.columns = ['diagnosis', 'image']\n",
    "lbl_img_cl['diagnosis'] = (lbl_img_cl['diagnosis'] == 'melanoma').astype(int)\n",
    "fileimages = lbl_img_cl['image']"
   ]
  },
  {
   "cell_type": "code",
   "execution_count": 97,
   "metadata": {},
   "outputs": [],
   "source": [
    "# Create X and y for Train set\n",
    "y = lbl_img_cl['diagnosis']\n",
    "X = []\n",
    "for i in fileimages:\n",
    "    image = load_and_preprocess_image(i)\n",
    "    X.append(np.asarray(image))"
   ]
  },
  {
   "cell_type": "code",
   "execution_count": 12,
   "metadata": {},
   "outputs": [],
   "source": [
    "# Train/test split for Train Set\n",
    "X_train, X_val, y_train, y_val = train_test_split(np.asarray(X), np.asarray(y), test_size=0.2, random_state=42, stratify=y)"
   ]
  },
  {
   "cell_type": "markdown",
   "metadata": {},
   "source": [
    "#### Train Model"
   ]
  },
  {
   "cell_type": "code",
   "execution_count": 55,
   "metadata": {
    "jupyter": {
     "source_hidden": true
    }
   },
   "outputs": [],
   "source": [
    "# def train_model(X_train, y_train, model_type=keras.Sequential(), input_shape=(100,100,3), activation='softmax', epochs=10):\n",
    "#     model = model_type\n",
    "#     model.add(keras.layers.Flatten(input_shape=input_shape))\n",
    "#     model.add(keras.layers.Dense(2, activation=activation))\n",
    "\n",
    "#     model.compile(optimizer='adam',\n",
    "#               loss='sparse_categorical_crossentropy',\n",
    "#               metrics=['accuracy'])\n",
    "#     model.fit(X_train, y_train, epochs=epochs)\n",
    "#     return model\n",
    "# model = train_model(X_train, y_train)"
   ]
  },
  {
   "cell_type": "code",
   "execution_count": 65,
   "metadata": {},
   "outputs": [],
   "source": [
    "model = Sequential()\n",
    "model.add(Conv2D(32, (3, 3), input_shape=(100,100,3)))\n",
    "model.add(Activation('relu'))\n",
    "model.add(MaxPooling2D(pool_size=(2, 2)))\n",
    "\n",
    "model.add(Conv2D(32, (3, 3)))\n",
    "model.add(Activation('relu'))\n",
    "model.add(MaxPooling2D(pool_size=(2, 2)))\n",
    "\n",
    "model.add(Conv2D(64, (3, 3)))\n",
    "model.add(Activation('relu'))\n",
    "model.add(MaxPooling2D(pool_size=(2, 2)))\n",
    "\n",
    "model.add(Flatten())  # this converts our 3D feature maps to 1D feature vectors\n",
    "model.add(Dense(64))\n",
    "model.add(Activation('relu'))\n",
    "model.add(Dropout(0.5))\n",
    "model.add(Dense(2))\n",
    "model.add(Activation('sigmoid'))"
   ]
  },
  {
   "cell_type": "code",
   "execution_count": 66,
   "metadata": {},
   "outputs": [],
   "source": [
    "model.compile(optimizer='adam',\n",
    "              loss='binary_crossentropy',\n",
    "              metrics=['accuracy'])"
   ]
  },
  {
   "cell_type": "code",
   "execution_count": 67,
   "metadata": {},
   "outputs": [
    {
     "name": "stdout",
     "output_type": "stream",
     "text": [
      "Epoch 1/100\n",
      "25/25 [==============================] - 3s 110ms/step - loss: 0.6919 - accuracy: 0.5288\n",
      "Epoch 2/100\n",
      "25/25 [==============================] - 3s 105ms/step - loss: 0.6735 - accuracy: 0.5915\n",
      "Epoch 3/100\n",
      "25/25 [==============================] - 3s 105ms/step - loss: 0.6543 - accuracy: 0.6253\n",
      "Epoch 4/100\n",
      "25/25 [==============================] - 3s 107ms/step - loss: 0.6370 - accuracy: 0.6754\n",
      "Epoch 5/100\n",
      "25/25 [==============================] - 3s 105ms/step - loss: 0.5966 - accuracy: 0.6942\n",
      "Epoch 6/100\n",
      "25/25 [==============================] - 3s 106ms/step - loss: 0.5805 - accuracy: 0.7055\n",
      "Epoch 7/100\n",
      "25/25 [==============================] - 3s 105ms/step - loss: 0.5658 - accuracy: 0.7231\n",
      "Epoch 8/100\n",
      "25/25 [==============================] - 3s 105ms/step - loss: 0.5478 - accuracy: 0.7281\n",
      "Epoch 9/100\n",
      "25/25 [==============================] - 3s 107ms/step - loss: 0.5391 - accuracy: 0.7531\n",
      "Epoch 10/100\n",
      "25/25 [==============================] - 3s 105ms/step - loss: 0.5258 - accuracy: 0.7544\n",
      "Epoch 11/100\n",
      "25/25 [==============================] - 3s 106ms/step - loss: 0.5030 - accuracy: 0.7632\n",
      "Epoch 12/100\n",
      "25/25 [==============================] - 3s 105ms/step - loss: 0.5171 - accuracy: 0.7456\n",
      "Epoch 13/100\n",
      "25/25 [==============================] - 3s 105ms/step - loss: 0.5248 - accuracy: 0.7707\n",
      "Epoch 14/100\n",
      "25/25 [==============================] - 3s 105ms/step - loss: 0.4964 - accuracy: 0.7657\n",
      "Epoch 15/100\n",
      "25/25 [==============================] - 3s 107ms/step - loss: 0.4980 - accuracy: 0.7632\n",
      "Epoch 16/100\n",
      "25/25 [==============================] - 3s 106ms/step - loss: 0.4785 - accuracy: 0.7907\n",
      "Epoch 17/100\n",
      "25/25 [==============================] - 3s 106ms/step - loss: 0.4822 - accuracy: 0.7757\n",
      "Epoch 18/100\n",
      "25/25 [==============================] - 3s 106ms/step - loss: 0.4621 - accuracy: 0.7882\n",
      "Epoch 19/100\n",
      "25/25 [==============================] - 3s 104ms/step - loss: 0.4663 - accuracy: 0.7782\n",
      "Epoch 20/100\n",
      "25/25 [==============================] - 3s 105ms/step - loss: 0.4959 - accuracy: 0.7594\n",
      "Epoch 21/100\n",
      "25/25 [==============================] - 3s 105ms/step - loss: 0.4940 - accuracy: 0.7506\n",
      "Epoch 22/100\n",
      "25/25 [==============================] - 3s 105ms/step - loss: 0.4416 - accuracy: 0.7870\n",
      "Epoch 23/100\n",
      "25/25 [==============================] - 3s 104ms/step - loss: 0.4665 - accuracy: 0.7845\n",
      "Epoch 24/100\n",
      "25/25 [==============================] - 3s 106ms/step - loss: 0.4480 - accuracy: 0.7895\n",
      "Epoch 25/100\n",
      "25/25 [==============================] - 3s 107ms/step - loss: 0.4392 - accuracy: 0.8020\n",
      "Epoch 26/100\n",
      "25/25 [==============================] - 3s 107ms/step - loss: 0.4454 - accuracy: 0.7945\n",
      "Epoch 27/100\n",
      "25/25 [==============================] - 3s 106ms/step - loss: 0.4329 - accuracy: 0.8058\n",
      "Epoch 28/100\n",
      "25/25 [==============================] - 3s 106ms/step - loss: 0.4196 - accuracy: 0.8008\n",
      "Epoch 29/100\n",
      "25/25 [==============================] - 3s 106ms/step - loss: 0.4381 - accuracy: 0.8070\n",
      "Epoch 30/100\n",
      "25/25 [==============================] - 3s 106ms/step - loss: 0.4006 - accuracy: 0.8170\n",
      "Epoch 31/100\n",
      "25/25 [==============================] - 3s 105ms/step - loss: 0.4154 - accuracy: 0.7945\n",
      "Epoch 32/100\n",
      "25/25 [==============================] - 3s 106ms/step - loss: 0.3853 - accuracy: 0.8321\n",
      "Epoch 33/100\n",
      "25/25 [==============================] - 3s 104ms/step - loss: 0.4031 - accuracy: 0.8070\n",
      "Epoch 34/100\n",
      "25/25 [==============================] - 3s 106ms/step - loss: 0.4279 - accuracy: 0.8183\n",
      "Epoch 35/100\n",
      "25/25 [==============================] - 3s 105ms/step - loss: 0.3688 - accuracy: 0.8321\n",
      "Epoch 36/100\n",
      "25/25 [==============================] - 3s 107ms/step - loss: 0.3774 - accuracy: 0.8283\n",
      "Epoch 37/100\n",
      "25/25 [==============================] - 3s 106ms/step - loss: 0.3683 - accuracy: 0.8396\n",
      "Epoch 38/100\n",
      "25/25 [==============================] - 3s 104ms/step - loss: 0.3814 - accuracy: 0.8371\n",
      "Epoch 39/100\n",
      "25/25 [==============================] - 3s 106ms/step - loss: 0.3422 - accuracy: 0.8459\n",
      "Epoch 40/100\n",
      "25/25 [==============================] - 3s 105ms/step - loss: 0.3714 - accuracy: 0.8333\n",
      "Epoch 41/100\n",
      "25/25 [==============================] - 3s 105ms/step - loss: 0.3694 - accuracy: 0.8258\n",
      "Epoch 42/100\n",
      "25/25 [==============================] - 3s 104ms/step - loss: 0.3310 - accuracy: 0.8546\n",
      "Epoch 43/100\n",
      "25/25 [==============================] - 3s 105ms/step - loss: 0.3228 - accuracy: 0.8459\n",
      "Epoch 44/100\n",
      "25/25 [==============================] - 3s 106ms/step - loss: 0.3144 - accuracy: 0.8534\n",
      "Epoch 45/100\n",
      "25/25 [==============================] - 3s 106ms/step - loss: 0.3158 - accuracy: 0.8459\n",
      "Epoch 46/100\n",
      "25/25 [==============================] - 3s 107ms/step - loss: 0.2798 - accuracy: 0.8647\n",
      "Epoch 47/100\n",
      "25/25 [==============================] - 3s 115ms/step - loss: 0.2786 - accuracy: 0.8697\n",
      "Epoch 48/100\n",
      "25/25 [==============================] - 3s 110ms/step - loss: 0.2589 - accuracy: 0.8897\n",
      "Epoch 49/100\n",
      "25/25 [==============================] - 3s 107ms/step - loss: 0.2659 - accuracy: 0.8734\n",
      "Epoch 50/100\n",
      "25/25 [==============================] - 3s 105ms/step - loss: 0.2402 - accuracy: 0.8960\n",
      "Epoch 51/100\n",
      "25/25 [==============================] - 3s 105ms/step - loss: 0.2305 - accuracy: 0.8985\n",
      "Epoch 52/100\n",
      "25/25 [==============================] - 3s 105ms/step - loss: 0.2482 - accuracy: 0.8822\n",
      "Epoch 53/100\n",
      "25/25 [==============================] - 3s 105ms/step - loss: 0.2406 - accuracy: 0.8897\n",
      "Epoch 54/100\n",
      "25/25 [==============================] - 3s 107ms/step - loss: 0.2143 - accuracy: 0.9010\n",
      "Epoch 55/100\n",
      "25/25 [==============================] - 3s 105ms/step - loss: 0.2111 - accuracy: 0.9073\n",
      "Epoch 56/100\n",
      "25/25 [==============================] - 3s 104ms/step - loss: 0.1909 - accuracy: 0.9173\n",
      "Epoch 57/100\n",
      "25/25 [==============================] - 3s 105ms/step - loss: 0.2057 - accuracy: 0.9085\n",
      "Epoch 58/100\n",
      "25/25 [==============================] - 3s 106ms/step - loss: 0.2343 - accuracy: 0.8972\n",
      "Epoch 59/100\n",
      "25/25 [==============================] - 3s 105ms/step - loss: 0.2569 - accuracy: 0.8872\n",
      "Epoch 60/100\n",
      "25/25 [==============================] - 3s 105ms/step - loss: 0.2531 - accuracy: 0.8960\n",
      "Epoch 61/100\n",
      "25/25 [==============================] - 3s 105ms/step - loss: 0.2026 - accuracy: 0.9160\n",
      "Epoch 62/100\n",
      "25/25 [==============================] - 3s 106ms/step - loss: 0.2201 - accuracy: 0.9023\n",
      "Epoch 63/100\n",
      "25/25 [==============================] - 3s 107ms/step - loss: 0.2213 - accuracy: 0.9135\n",
      "Epoch 64/100\n",
      "25/25 [==============================] - 3s 107ms/step - loss: 0.1682 - accuracy: 0.9298\n",
      "Epoch 65/100\n",
      "25/25 [==============================] - 3s 105ms/step - loss: 0.1591 - accuracy: 0.9411\n",
      "Epoch 66/100\n",
      "25/25 [==============================] - 3s 105ms/step - loss: 0.1899 - accuracy: 0.9185\n",
      "Epoch 67/100\n",
      "25/25 [==============================] - 3s 106ms/step - loss: 0.2029 - accuracy: 0.9135\n",
      "Epoch 68/100\n",
      "25/25 [==============================] - 3s 105ms/step - loss: 0.1711 - accuracy: 0.9248\n",
      "Epoch 69/100\n",
      "25/25 [==============================] - 3s 117ms/step - loss: 0.1299 - accuracy: 0.9436\n",
      "Epoch 70/100\n",
      "25/25 [==============================] - 3s 105ms/step - loss: 0.1519 - accuracy: 0.9336\n",
      "Epoch 71/100\n",
      "25/25 [==============================] - 3s 106ms/step - loss: 0.1456 - accuracy: 0.9474\n",
      "Epoch 72/100\n",
      "25/25 [==============================] - 3s 105ms/step - loss: 0.1247 - accuracy: 0.9449\n",
      "Epoch 73/100\n",
      "25/25 [==============================] - 3s 104ms/step - loss: 0.1248 - accuracy: 0.9574\n",
      "Epoch 74/100\n",
      "25/25 [==============================] - 3s 106ms/step - loss: 0.1076 - accuracy: 0.9524\n",
      "Epoch 75/100\n",
      "25/25 [==============================] - 3s 106ms/step - loss: 0.1757 - accuracy: 0.9173\n",
      "Epoch 76/100\n",
      "25/25 [==============================] - 3s 106ms/step - loss: 0.1528 - accuracy: 0.9323\n",
      "Epoch 77/100\n",
      "25/25 [==============================] - 3s 105ms/step - loss: 0.1329 - accuracy: 0.9461\n",
      "Epoch 78/100\n",
      "25/25 [==============================] - 3s 105ms/step - loss: 0.1410 - accuracy: 0.9386\n",
      "Epoch 79/100\n",
      "25/25 [==============================] - 3s 105ms/step - loss: 0.1166 - accuracy: 0.9612\n",
      "Epoch 80/100\n",
      "25/25 [==============================] - 3s 107ms/step - loss: 0.1210 - accuracy: 0.9411\n",
      "Epoch 81/100\n",
      "25/25 [==============================] - 3s 106ms/step - loss: 0.1337 - accuracy: 0.9524\n",
      "Epoch 82/100\n",
      "25/25 [==============================] - 3s 106ms/step - loss: 0.1022 - accuracy: 0.9586\n",
      "Epoch 83/100\n",
      "25/25 [==============================] - 3s 105ms/step - loss: 0.0934 - accuracy: 0.9649\n",
      "Epoch 84/100\n",
      "25/25 [==============================] - 3s 105ms/step - loss: 0.1081 - accuracy: 0.9624\n",
      "Epoch 85/100\n",
      "25/25 [==============================] - 3s 106ms/step - loss: 0.2140 - accuracy: 0.9123\n",
      "Epoch 86/100\n",
      "25/25 [==============================] - 3s 106ms/step - loss: 0.1508 - accuracy: 0.9499\n",
      "Epoch 87/100\n",
      "25/25 [==============================] - 3s 105ms/step - loss: 0.1109 - accuracy: 0.9536\n",
      "Epoch 88/100\n",
      "25/25 [==============================] - 3s 106ms/step - loss: 0.0912 - accuracy: 0.9599\n",
      "Epoch 89/100\n",
      "25/25 [==============================] - 3s 107ms/step - loss: 0.0971 - accuracy: 0.9624\n",
      "Epoch 90/100\n",
      "25/25 [==============================] - 3s 109ms/step - loss: 0.0816 - accuracy: 0.9662\n",
      "Epoch 91/100\n",
      "25/25 [==============================] - 3s 109ms/step - loss: 0.0768 - accuracy: 0.9712\n",
      "Epoch 92/100\n",
      "25/25 [==============================] - 3s 103ms/step - loss: 0.1022 - accuracy: 0.9499\n",
      "Epoch 93/100\n",
      "25/25 [==============================] - 3s 106ms/step - loss: 0.1015 - accuracy: 0.9599\n",
      "Epoch 94/100\n",
      "25/25 [==============================] - 3s 105ms/step - loss: 0.0921 - accuracy: 0.9624\n",
      "Epoch 95/100\n",
      "25/25 [==============================] - 3s 105ms/step - loss: 0.0823 - accuracy: 0.9662\n",
      "Epoch 96/100\n",
      "25/25 [==============================] - 3s 105ms/step - loss: 0.0684 - accuracy: 0.9774\n",
      "Epoch 97/100\n",
      "25/25 [==============================] - 3s 107ms/step - loss: 0.0752 - accuracy: 0.9724\n",
      "Epoch 98/100\n",
      "25/25 [==============================] - 3s 106ms/step - loss: 0.0762 - accuracy: 0.9662\n",
      "Epoch 99/100\n",
      "25/25 [==============================] - 3s 105ms/step - loss: 0.0622 - accuracy: 0.9787\n",
      "Epoch 100/100\n",
      "25/25 [==============================] - 3s 106ms/step - loss: 0.0495 - accuracy: 0.9812\n"
     ]
    },
    {
     "data": {
      "text/plain": [
       "<tensorflow.python.keras.callbacks.History at 0x7fef18596510>"
      ]
     },
     "execution_count": 67,
     "metadata": {},
     "output_type": "execute_result"
    }
   ],
   "source": [
    "model.fit(X_train, y_train, epochs=100)"
   ]
  },
  {
   "cell_type": "code",
   "execution_count": 68,
   "metadata": {},
   "outputs": [
    {
     "name": "stdout",
     "output_type": "stream",
     "text": [
      "Model: \"sequential_6\"\n",
      "_________________________________________________________________\n",
      "Layer (type)                 Output Shape              Param #   \n",
      "=================================================================\n",
      "conv2d_12 (Conv2D)           (None, 98, 98, 32)        896       \n",
      "_________________________________________________________________\n",
      "activation_20 (Activation)   (None, 98, 98, 32)        0         \n",
      "_________________________________________________________________\n",
      "max_pooling2d_12 (MaxPooling (None, 49, 49, 32)        0         \n",
      "_________________________________________________________________\n",
      "conv2d_13 (Conv2D)           (None, 47, 47, 32)        9248      \n",
      "_________________________________________________________________\n",
      "activation_21 (Activation)   (None, 47, 47, 32)        0         \n",
      "_________________________________________________________________\n",
      "max_pooling2d_13 (MaxPooling (None, 23, 23, 32)        0         \n",
      "_________________________________________________________________\n",
      "conv2d_14 (Conv2D)           (None, 21, 21, 64)        18496     \n",
      "_________________________________________________________________\n",
      "activation_22 (Activation)   (None, 21, 21, 64)        0         \n",
      "_________________________________________________________________\n",
      "max_pooling2d_14 (MaxPooling (None, 10, 10, 64)        0         \n",
      "_________________________________________________________________\n",
      "flatten_6 (Flatten)          (None, 6400)              0         \n",
      "_________________________________________________________________\n",
      "dense_10 (Dense)             (None, 64)                409664    \n",
      "_________________________________________________________________\n",
      "activation_23 (Activation)   (None, 64)                0         \n",
      "_________________________________________________________________\n",
      "dropout_4 (Dropout)          (None, 64)                0         \n",
      "_________________________________________________________________\n",
      "dense_11 (Dense)             (None, 2)                 130       \n",
      "_________________________________________________________________\n",
      "activation_24 (Activation)   (None, 2)                 0         \n",
      "=================================================================\n",
      "Total params: 438,434\n",
      "Trainable params: 438,434\n",
      "Non-trainable params: 0\n",
      "_________________________________________________________________\n"
     ]
    }
   ],
   "source": [
    "model.summary()"
   ]
  },
  {
   "cell_type": "markdown",
   "metadata": {},
   "source": [
    "## Evalaution"
   ]
  },
  {
   "cell_type": "code",
   "execution_count": 58,
   "metadata": {},
   "outputs": [],
   "source": [
    "def matrix_score(y_test, y_pred):\n",
    "    tn, fp, fn, tp = confusion_matrix(y_test, y_pred).ravel()\n",
    "    print(np.array([[tp, fn],[fp, tn]]))\n",
    "    print('Recall:    {:.2f}'.format(tp/(tp+fn)))\n",
    "    print('Precision: {:.2f}'.format(tp/(tp+fp)))\n",
    "    print('Accuracy:  {:.2f}'.format((tp+tn)/(tp+tn+fp+fn)))\n",
    "    print('ROC AUC:   {:.2f}'.format(roc_auc_score(y_test, y_pred)))"
   ]
  },
  {
   "cell_type": "markdown",
   "metadata": {},
   "source": [
    "### Validation Set and Test Set"
   ]
  },
  {
   "cell_type": "code",
   "execution_count": 69,
   "metadata": {
    "scrolled": true
   },
   "outputs": [
    {
     "name": "stdout",
     "output_type": "stream",
     "text": [
      "Validation set accuracy 83.50%\n",
      "Test set accuracy 57.67%\n"
     ]
    }
   ],
   "source": [
    "# Validation Set\n",
    "val_loss1, val_acc = model.evaluate(X_val, y_val, verbose=0)\n",
    "print('Validation set accuracy {:5.2f}%'.format(100*val_acc))\n",
    "# Test Set\n",
    "test_loss, test_acc = model.evaluate(X_test, y_test, verbose=0)\n",
    "print('Test set accuracy {:5.2f}%'.format(100*test_acc))"
   ]
  },
  {
   "cell_type": "code",
   "execution_count": 70,
   "metadata": {},
   "outputs": [
    {
     "name": "stdout",
     "output_type": "stream",
     "text": [
      "[[85 15]\n",
      " [18 82]]\n",
      "Recall:    0.85\n",
      "Precision: 0.83\n",
      "Accuracy:  0.83\n",
      "ROC AUC:   0.84\n"
     ]
    }
   ],
   "source": [
    "# Validation Set\n",
    "y_val_pred = np.argmax(model.predict(X_val), axis=-1)\n",
    "matrix_score(y_val, y_val_pred)"
   ]
  },
  {
   "cell_type": "code",
   "execution_count": 71,
   "metadata": {},
   "outputs": [
    {
     "name": "stdout",
     "output_type": "stream",
     "text": [
      "[[ 22  55]\n",
      " [ 72 151]]\n",
      "Recall:    0.29\n",
      "Precision: 0.23\n",
      "Accuracy:  0.58\n",
      "ROC AUC:   0.48\n"
     ]
    }
   ],
   "source": [
    "# Test Set\n",
    "y_test_pred = np.argmax(model.predict(X_test), axis=-1)\n",
    "matrix_score(y_test, y_test_pred)"
   ]
  },
  {
   "cell_type": "code",
   "execution_count": 72,
   "metadata": {},
   "outputs": [
    {
     "data": {
      "image/png": "[encoded data removed]",
      "text/plain": [
       "<Figure size 432x288 with 1 Axes>"
      ]
     },
     "metadata": {
      "needs_background": "light"
     },
     "output_type": "display_data"
    }
   ],
   "source": [
    "fpr, tpr, threshold = roc_curve(y_test, y_test_pred)\n",
    "roc_auc = auc(fpr, tpr)\n",
    "\n",
    "plt.title('Receiver Operating Characteristic')\n",
    "plt.plot(fpr, tpr, 'b', label = 'AUC = %0.2f' % roc_auc)\n",
    "plt.legend(loc = 'lower right')\n",
    "plt.plot([0, 1], [0, 1],'r--')\n",
    "plt.xlim([0, 1])\n",
    "plt.ylim([0, 1])\n",
    "plt.ylabel('True Positive Rate')\n",
    "plt.xlabel('False Positive Rate')\n",
    "plt.show()"
   ]
  },
  {
   "cell_type": "code",
   "execution_count": null,
   "metadata": {},
   "outputs": [],
   "source": []
  },
  {
   "cell_type": "code",
   "execution_count": null,
   "metadata": {},
   "outputs": [],
   "source": []
  },
  {
   "cell_type": "code",
   "execution_count": null,
   "metadata": {},
   "outputs": [],
   "source": []
  },
  {
   "cell_type": "code",
   "execution_count": null,
   "metadata": {},
   "outputs": [],
   "source": []
  },
  {
   "cell_type": "code",
   "execution_count": null,
   "metadata": {},
   "outputs": [],
   "source": []
  },
  {
   "cell_type": "code",
   "execution_count": null,
   "metadata": {},
   "outputs": [],
   "source": []
  },
  {
   "cell_type": "code",
   "execution_count": null,
   "metadata": {},
   "outputs": [],
   "source": []
  },
  {
   "cell_type": "code",
   "execution_count": null,
   "metadata": {},
   "outputs": [],
   "source": []
  },
  {
   "cell_type": "code",
   "execution_count": null,
   "metadata": {},
   "outputs": [],
   "source": []
  },
  {
   "cell_type": "code",
   "execution_count": null,
   "metadata": {},
   "outputs": [],
   "source": []
  },
  {
   "cell_type": "code",
   "execution_count": null,
   "metadata": {},
   "outputs": [],
   "source": []
  },
  {
   "cell_type": "code",
   "execution_count": null,
   "metadata": {},
   "outputs": [],
   "source": []
  },
  {
   "cell_type": "code",
   "execution_count": null,
   "metadata": {},
   "outputs": [],
   "source": []
  },
  {
   "cell_type": "code",
   "execution_count": null,
   "metadata": {},
   "outputs": [],
   "source": []
  },
  {
   "cell_type": "code",
   "execution_count": null,
   "metadata": {},
   "outputs": [],
   "source": []
  },
  {
   "cell_type": "code",
   "execution_count": null,
   "metadata": {},
   "outputs": [],
   "source": []
  },
  {
   "cell_type": "code",
   "execution_count": null,
   "metadata": {},
   "outputs": [],
   "source": []
  },
  {
   "cell_type": "code",
   "execution_count": null,
   "metadata": {},
   "outputs": [],
   "source": []
  }
 ],
 "metadata": {
  "kernelspec": {
   "display_name": "Python 3",
   "language": "python",
   "name": "python3"
  },
  "language_info": {
   "codemirror_mode": {
    "name": "ipython",
    "version": 3
   },
   "file_extension": ".py",
   "mimetype": "text/x-python",
   "name": "python",
   "nbconvert_exporter": "python",
   "pygments_lexer": "ipython3",
   "version": "3.7.6"
  }
 },
 "nbformat": 4,
 "nbformat_minor": 4
}
