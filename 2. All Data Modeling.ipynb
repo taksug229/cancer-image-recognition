{
 "cells": [
  {
   "cell_type": "markdown",
   "metadata": {},
   "source": [
    "## Import & Process Image"
   ]
  },
  {
   "cell_type": "code",
   "execution_count": 5,
   "metadata": {},
   "outputs": [],
   "source": [
    "import tensorflow as tf\n",
    "from tensorflow import keras\n",
    "import os\n",
    "import tempfile\n",
    "from tensorflow.keras.models import Sequential, Model\n",
    "from tensorflow.keras.layers import Conv2D, MaxPooling2D\n",
    "from tensorflow.keras.layers import Activation, Dropout, Flatten, Dense, Input\n",
    "\n",
    "import matplotlib as mpl\n",
    "import matplotlib.pyplot as plt\n",
    "%matplotlib inline\n",
    "import numpy as np\n",
    "import pandas as pd\n",
    "import seaborn as sns\n",
    "\n",
    "import sklearn\n",
    "from sklearn.metrics import confusion_matrix, roc_auc_score, roc_curve, auc\n",
    "from sklearn.model_selection import train_test_split\n",
    "from sklearn.preprocessing import StandardScaler\n",
    "from sklearn.utils import class_weight\n",
    "\n",
    "import glob\n",
    "\n",
    "# from src.functions import preprocess_image, load_and_preprocess_image\n",
    "\n",
    "AUTOTUNE = tf.data.experimental.AUTOTUNE ## tf.data transformation parameters\n",
    "\n",
    "pd.options.display.max_columns = 100"
   ]
  },
  {
   "cell_type": "markdown",
   "metadata": {},
   "source": [
    "## Data Cleaning"
   ]
  },
  {
   "cell_type": "code",
   "execution_count": 2,
   "metadata": {},
   "outputs": [],
   "source": [
    "## This code will only work if you have all the images already downloaded on your EC2\n",
    "img_url = sorted(glob.glob('data/ISIC-images'+\"/*.jpg\"))\n",
    "csv_names = [i for i in glob.glob('data'+'/*.csv')]\n",
    "df = pd.read_csv('data/metadata.csv')\n",
    "\n",
    "short=[]\n",
    "for i in img_url:\n",
    "    short.append(i[17:-4])\n",
    "img_name = pd.Series(short,name='name')\n",
    "\n",
    "df = pd.merge(df, img_name, on='name', how='inner')\n",
    "df['image'] = img_url\n",
    "\n",
    "df = df[['meta.clinical.diagnosis', 'image']]\n",
    "df_na = df.copy()\n",
    "df = df[df['meta.clinical.diagnosis'].notna()].reset_index(drop=True)\n",
    "df.columns = ['diagnosis', 'image']\n",
    "df['diagnosis'] = (df['diagnosis'] == 'melanoma').astype(int)"
   ]
  },
  {
   "cell_type": "markdown",
   "metadata": {},
   "source": [
    "#### Deleted null values from dataset"
   ]
  },
  {
   "cell_type": "code",
   "execution_count": 3,
   "metadata": {},
   "outputs": [
    {
     "data": {
      "text/html": [
       "<div>\n",
       "<style scoped>\n",
       "    .dataframe tbody tr th:only-of-type {\n",
       "        vertical-align: middle;\n",
       "    }\n",
       "\n",
       "    .dataframe tbody tr th {\n",
       "        vertical-align: top;\n",
       "    }\n",
       "\n",
       "    .dataframe thead th {\n",
       "        text-align: right;\n",
       "    }\n",
       "</style>\n",
       "<table border=\"1\" class=\"dataframe\">\n",
       "  <thead>\n",
       "    <tr style=\"text-align: right;\">\n",
       "      <th></th>\n",
       "      <th>meta.clinical.diagnosis</th>\n",
       "      <th>image</th>\n",
       "    </tr>\n",
       "  </thead>\n",
       "  <tbody>\n",
       "    <tr>\n",
       "      <th>257</th>\n",
       "      <td>NaN</td>\n",
       "      <td>data/ISIC-images/ISIC_0000257.jpg</td>\n",
       "    </tr>\n",
       "    <tr>\n",
       "      <th>454</th>\n",
       "      <td>NaN</td>\n",
       "      <td>data/ISIC-images/ISIC_0000454.jpg</td>\n",
       "    </tr>\n",
       "    <tr>\n",
       "      <th>9892</th>\n",
       "      <td>NaN</td>\n",
       "      <td>data/ISIC-images/ISIC_0009892.jpg</td>\n",
       "    </tr>\n",
       "    <tr>\n",
       "      <th>9893</th>\n",
       "      <td>NaN</td>\n",
       "      <td>data/ISIC-images/ISIC_0009893.jpg</td>\n",
       "    </tr>\n",
       "    <tr>\n",
       "      <th>9924</th>\n",
       "      <td>NaN</td>\n",
       "      <td>data/ISIC-images/ISIC_0009924.jpg</td>\n",
       "    </tr>\n",
       "    <tr>\n",
       "      <th>...</th>\n",
       "      <td>...</td>\n",
       "      <td>...</td>\n",
       "    </tr>\n",
       "    <tr>\n",
       "      <th>13786</th>\n",
       "      <td>NaN</td>\n",
       "      <td>data/ISIC-images/ISIC_0024202.jpg</td>\n",
       "    </tr>\n",
       "    <tr>\n",
       "      <th>13787</th>\n",
       "      <td>NaN</td>\n",
       "      <td>data/ISIC-images/ISIC_0024203.jpg</td>\n",
       "    </tr>\n",
       "    <tr>\n",
       "      <th>13788</th>\n",
       "      <td>NaN</td>\n",
       "      <td>data/ISIC-images/ISIC_0024204.jpg</td>\n",
       "    </tr>\n",
       "    <tr>\n",
       "      <th>13789</th>\n",
       "      <td>NaN</td>\n",
       "      <td>data/ISIC-images/ISIC_0024205.jpg</td>\n",
       "    </tr>\n",
       "    <tr>\n",
       "      <th>13790</th>\n",
       "      <td>NaN</td>\n",
       "      <td>data/ISIC-images/ISIC_0024206.jpg</td>\n",
       "    </tr>\n",
       "  </tbody>\n",
       "</table>\n",
       "<p>249 rows × 2 columns</p>\n",
       "</div>"
      ],
      "text/plain": [
       "      meta.clinical.diagnosis                              image\n",
       "257                       NaN  data/ISIC-images/ISIC_0000257.jpg\n",
       "454                       NaN  data/ISIC-images/ISIC_0000454.jpg\n",
       "9892                      NaN  data/ISIC-images/ISIC_0009892.jpg\n",
       "9893                      NaN  data/ISIC-images/ISIC_0009893.jpg\n",
       "9924                      NaN  data/ISIC-images/ISIC_0009924.jpg\n",
       "...                       ...                                ...\n",
       "13786                     NaN  data/ISIC-images/ISIC_0024202.jpg\n",
       "13787                     NaN  data/ISIC-images/ISIC_0024203.jpg\n",
       "13788                     NaN  data/ISIC-images/ISIC_0024204.jpg\n",
       "13789                     NaN  data/ISIC-images/ISIC_0024205.jpg\n",
       "13790                     NaN  data/ISIC-images/ISIC_0024206.jpg\n",
       "\n",
       "[249 rows x 2 columns]"
      ]
     },
     "execution_count": 3,
     "metadata": {},
     "output_type": "execute_result"
    }
   ],
   "source": [
    "df_na[df_na['meta.clinical.diagnosis'].isna()]"
   ]
  },
  {
   "cell_type": "markdown",
   "metadata": {},
   "source": [
    "##### df = All dataset"
   ]
  },
  {
   "cell_type": "markdown",
   "metadata": {},
   "source": [
    "## EDA"
   ]
  },
  {
   "cell_type": "code",
   "execution_count": 4,
   "metadata": {},
   "outputs": [],
   "source": [
    "diagnosis = df['diagnosis']"
   ]
  },
  {
   "cell_type": "code",
   "execution_count": 9,
   "metadata": {},
   "outputs": [
    {
     "data": {
      "image/png": "[encoded data removed]",
      "text/plain": [
       "<Figure size 576x576 with 1 Axes>"
      ]
     },
     "metadata": {
      "needs_background": "light"
     },
     "output_type": "display_data"
    }
   ],
   "source": [
    "fig, ax = plt.subplots(figsize=(8,8))\n",
    "xlabel = 25\n",
    "xtick = 18\n",
    "x0 = (diagnosis==0).sum()\n",
    "x1 = (diagnosis==1).sum()\n",
    "\n",
    "ax.set_xlabel('Distribution', size=xlabel)\n",
    "\n",
    "ax.bar(0, x0, color = 'b', label='Not Cancer')\n",
    "ax.bar(1, x1, color = 'r', label='Cancer')\n",
    "ax.set_xticks([0,1])\n",
    "ax.set_xticklabels(['Not Cancer: 90%', 'Cancer: 10%'], size=xtick)\n",
    "plt.legend(prop={'size': 18})\n",
    "plt.show()"
   ]
  },
  {
   "cell_type": "markdown",
   "metadata": {},
   "source": [
    "## Pipeline"
   ]
  },
  {
   "cell_type": "code",
   "execution_count": 6,
   "metadata": {},
   "outputs": [],
   "source": [
    "def preprocess_image(image, imgage_shape=[100,100]):\n",
    "    image = tf.image.decode_jpeg(image, channels=3)\n",
    "    image = tf.image.resize(image, imgage_shape)\n",
    "    image /= 255.0  # normalize to [0,1] range\n",
    "    return image\n",
    "\n",
    "def load_and_preprocess_image(path):\n",
    "    image = tf.io.read_file(path)\n",
    "    return preprocess_image(image)\n",
    "\n",
    "def create_X_y(df):\n",
    "    y = df['diagnosis']\n",
    "    X = []\n",
    "    for i in df['image']:\n",
    "        image = load_and_preprocess_image(i)\n",
    "        X.append(np.asarray(image))\n",
    "    return np.asarray(X), np.asarray(y)"
   ]
  },
  {
   "cell_type": "markdown",
   "metadata": {},
   "source": [
    "#### Creating Test Set and Save processed image set"
   ]
  },
  {
   "cell_type": "code",
   "execution_count": 27,
   "metadata": {},
   "outputs": [],
   "source": [
    "# Code to create X and y.\n",
    "# X, y = create_X_y(df)"
   ]
  },
  {
   "cell_type": "code",
   "execution_count": 24,
   "metadata": {},
   "outputs": [],
   "source": [
    "# np.save('data/100x100.npy', X)\n",
    "np.save('data/diagnosis.npy', y)"
   ]
  },
  {
   "cell_type": "code",
   "execution_count": 20,
   "metadata": {},
   "outputs": [],
   "source": [
    "import boto3\n",
    "s3 = boto3.client('s3')"
   ]
  },
  {
   "cell_type": "code",
   "execution_count": 7,
   "metadata": {},
   "outputs": [],
   "source": [
    "# Uploading 'X' to AWS S3 from original AWS instance\n",
    "s3.upload_file(Filename='data/100x100.npy',\n",
    "              Bucket='cancer-images-project',\n",
    "              Key='100x100.npy')"
   ]
  },
  {
   "cell_type": "code",
   "execution_count": 21,
   "metadata": {},
   "outputs": [],
   "source": [
    "# Downloading 'X' from AWS S3 to new AWS instance\n",
    "s3.download_file(Bucket='cancer-images-project',\n",
    "                 Key='100x100.npy',\n",
    "                 Filename='data/100x100.npy')"
   ]
  },
  {
   "cell_type": "code",
   "execution_count": null,
   "metadata": {},
   "outputs": [],
   "source": [
    "# Uploading 'y' to AWS S3 from original AWS instance\n",
    "s3.upload_file(Filename='data/diagnosis.npy',\n",
    "              Bucket='cancer-images-project',\n",
    "              Key='diagnosis.npy')"
   ]
  },
  {
   "cell_type": "code",
   "execution_count": null,
   "metadata": {},
   "outputs": [],
   "source": [
    "# Downloading 'y' from AWS S3 to new AWS instance\n",
    "s3.download_file(Bucket='cancer-images-project',\n",
    "                 Key='diagnosis.npy',\n",
    "                 Filename='data/diagnosis.npy')"
   ]
  },
  {
   "cell_type": "markdown",
   "metadata": {},
   "source": [
    "#### Train Test Split for Train, validation, test set"
   ]
  },
  {
   "cell_type": "code",
   "execution_count": 11,
   "metadata": {},
   "outputs": [],
   "source": [
    "X = np.load('data/100x100.npy')\n",
    "y = np.asarray(df['diagnosis'])"
   ]
  },
  {
   "cell_type": "code",
   "execution_count": 12,
   "metadata": {},
   "outputs": [],
   "source": [
    "# Train/test split for Train Set\n",
    "XX_train, X_test, yy_train, y_test = train_test_split(X, y, test_size=0.2, random_state=42, stratify=y)\n",
    "X_train, X_val, y_train, y_val = train_test_split(XX_train, yy_train, test_size=0.2, random_state=42, stratify=yy_train)"
   ]
  },
  {
   "cell_type": "markdown",
   "metadata": {},
   "source": [
    "#### Train Model"
   ]
  },
  {
   "cell_type": "code",
   "execution_count": 13,
   "metadata": {},
   "outputs": [],
   "source": [
    "model = Sequential()\n",
    "model.add(Conv2D(32, (3, 3), input_shape=(100,100,3)))\n",
    "model.add(Activation('relu'))\n",
    "model.add(MaxPooling2D(pool_size=(2, 2)))\n",
    "\n",
    "model.add(Conv2D(32, (3, 3)))\n",
    "model.add(Activation('relu'))\n",
    "model.add(MaxPooling2D(pool_size=(2, 2)))\n",
    "\n",
    "model.add(Conv2D(64, (3, 3)))\n",
    "model.add(Activation('relu'))\n",
    "model.add(MaxPooling2D(pool_size=(2, 2)))\n",
    "\n",
    "model.add(Flatten())  # this converts our 3D feature maps to 1D feature vectors\n",
    "model.add(Dense(64))\n",
    "model.add(Activation('relu'))\n",
    "model.add(Dropout(0.4))\n",
    "model.add(Dense(1))\n",
    "model.add(Activation('sigmoid'))"
   ]
  },
  {
   "cell_type": "code",
   "execution_count": 14,
   "metadata": {},
   "outputs": [],
   "source": [
    "opt = keras.optimizers.Adam(learning_rate=0.001)\n",
    "model.compile(optimizer=opt,\n",
    "              loss='binary_crossentropy',\n",
    "              metrics=['accuracy',tf.keras.metrics.Recall()])"
   ]
  },
  {
   "cell_type": "code",
   "execution_count": 15,
   "metadata": {},
   "outputs": [],
   "source": [
    "class_weight = {1:0.9,\n",
    "                0:0.1}"
   ]
  },
  {
   "cell_type": "code",
   "execution_count": 16,
   "metadata": {
    "collapsed": true,
    "jupyter": {
     "outputs_hidden": true
    }
   },
   "outputs": [
    {
     "name": "stdout",
     "output_type": "stream",
     "text": [
      "Epoch 1/100\n",
      "474/474 [==============================] - 55s 117ms/step - loss: 0.1073 - accuracy: 0.5400 - recall: 0.6842 - val_loss: 0.5401 - val_accuracy: 0.4166 - val_recall: 0.9470\n",
      "Epoch 2/100\n",
      "474/474 [==============================] - 55s 116ms/step - loss: 0.0986 - accuracy: 0.4737 - recall: 0.8839 - val_loss: 0.5086 - val_accuracy: 0.5090 - val_recall: 0.8249\n",
      "Epoch 3/100\n",
      "474/474 [==============================] - 56s 117ms/step - loss: 0.0938 - accuracy: 0.5237 - recall: 0.8926 - val_loss: 0.5162 - val_accuracy: 0.5673 - val_recall: 0.8802\n",
      "Epoch 4/100\n",
      "474/474 [==============================] - 55s 116ms/step - loss: 0.0865 - accuracy: 0.6309 - recall: 0.8702 - val_loss: 0.5224 - val_accuracy: 0.6470 - val_recall: 0.8018\n",
      "Epoch 5/100\n",
      "474/474 [==============================] - 55s 117ms/step - loss: 0.0890 - accuracy: 0.6300 - recall: 0.8544 - val_loss: 0.4585 - val_accuracy: 0.7339 - val_recall: 0.6636\n",
      "Epoch 6/100\n",
      "474/474 [==============================] - 55s 116ms/step - loss: 0.0863 - accuracy: 0.6834 - recall: 0.8248 - val_loss: 0.4577 - val_accuracy: 0.6836 - val_recall: 0.8756\n",
      "Epoch 7/100\n",
      "474/474 [==============================] - 55s 116ms/step - loss: 0.0771 - accuracy: 0.7001 - recall: 0.8753 - val_loss: 0.4167 - val_accuracy: 0.7654 - val_recall: 0.6406\n",
      "Epoch 8/100\n",
      "474/474 [==============================] - 55s 116ms/step - loss: 0.0876 - accuracy: 0.6053 - recall: 0.8464 - val_loss: 0.4805 - val_accuracy: 0.6851 - val_recall: 0.8065\n",
      "Epoch 9/100\n",
      "474/474 [==============================] - 55s 117ms/step - loss: 0.0906 - accuracy: 0.6146 - recall: 0.8529 - val_loss: 0.4126 - val_accuracy: 0.7269 - val_recall: 0.8203\n",
      "Epoch 10/100\n",
      "474/474 [==============================] - 55s 116ms/step - loss: 0.0745 - accuracy: 0.7169 - recall: 0.8919 - val_loss: 0.4440 - val_accuracy: 0.7252 - val_recall: 0.8272\n",
      "Epoch 11/100\n",
      "474/474 [==============================] - 55s 116ms/step - loss: 0.0734 - accuracy: 0.7153 - recall: 0.8868 - val_loss: 0.4956 - val_accuracy: 0.6774 - val_recall: 0.8986\n",
      "Epoch 12/100\n",
      "474/474 [==============================] - 54s 115ms/step - loss: 0.0777 - accuracy: 0.6888 - recall: 0.8717 - val_loss: 0.5044 - val_accuracy: 0.6557 - val_recall: 0.9124\n",
      "Epoch 13/100\n",
      "474/474 [==============================] - 54s 115ms/step - loss: 0.0710 - accuracy: 0.7301 - recall: 0.8810 - val_loss: 0.4671 - val_accuracy: 0.6836 - val_recall: 0.9309\n",
      "Epoch 14/100\n",
      "474/474 [==============================] - 55s 115ms/step - loss: 0.0692 - accuracy: 0.7368 - recall: 0.8933 - val_loss: 0.4092 - val_accuracy: 0.7470 - val_recall: 0.8318\n",
      "Epoch 15/100\n",
      "474/474 [==============================] - 55s 115ms/step - loss: 0.0709 - accuracy: 0.7361 - recall: 0.8911 - val_loss: 0.4026 - val_accuracy: 0.7362 - val_recall: 0.8410\n",
      "Epoch 16/100\n",
      "474/474 [==============================] - 56s 117ms/step - loss: 0.0676 - accuracy: 0.7377 - recall: 0.9012 - val_loss: 0.4099 - val_accuracy: 0.7092 - val_recall: 0.8733\n",
      "Epoch 17/100\n",
      "474/474 [==============================] - 56s 119ms/step - loss: 0.0674 - accuracy: 0.7433 - recall: 0.8962 - val_loss: 0.4000 - val_accuracy: 0.7523 - val_recall: 0.7696\n",
      "Epoch 18/100\n",
      "474/474 [==============================] - 55s 117ms/step - loss: 0.0685 - accuracy: 0.7433 - recall: 0.8818 - val_loss: 0.3979 - val_accuracy: 0.7480 - val_recall: 0.8272\n",
      "Epoch 19/100\n",
      "474/474 [==============================] - 55s 117ms/step - loss: 0.0657 - accuracy: 0.7556 - recall: 0.8890 - val_loss: 0.4065 - val_accuracy: 0.7453 - val_recall: 0.8502\n",
      "Epoch 20/100\n",
      "474/474 [==============================] - 54s 115ms/step - loss: 0.0661 - accuracy: 0.7568 - recall: 0.8911 - val_loss: 0.4576 - val_accuracy: 0.7252 - val_recall: 0.8687\n",
      "Epoch 21/100\n",
      "474/474 [==============================] - 56s 119ms/step - loss: 0.0664 - accuracy: 0.7598 - recall: 0.8854 - val_loss: 0.3514 - val_accuracy: 0.8026 - val_recall: 0.7051\n",
      "Epoch 22/100\n",
      "474/474 [==============================] - 55s 116ms/step - loss: 0.0652 - accuracy: 0.7698 - recall: 0.8818 - val_loss: 0.4252 - val_accuracy: 0.7341 - val_recall: 0.8433\n",
      "Epoch 23/100\n",
      "474/474 [==============================] - 55s 116ms/step - loss: 0.0628 - accuracy: 0.7755 - recall: 0.9005 - val_loss: 0.4591 - val_accuracy: 0.7320 - val_recall: 0.8571\n",
      "Epoch 24/100\n",
      "474/474 [==============================] - 55s 115ms/step - loss: 0.0605 - accuracy: 0.7910 - recall: 0.9027 - val_loss: 0.4210 - val_accuracy: 0.7798 - val_recall: 0.7765\n",
      "Epoch 25/100\n",
      "474/474 [==============================] - 55s 116ms/step - loss: 0.0610 - accuracy: 0.7803 - recall: 0.9193 - val_loss: 0.3618 - val_accuracy: 0.7931 - val_recall: 0.7373\n",
      "Epoch 26/100\n",
      "474/474 [==============================] - 54s 115ms/step - loss: 0.0597 - accuracy: 0.7845 - recall: 0.9034 - val_loss: 0.3948 - val_accuracy: 0.7819 - val_recall: 0.7535\n",
      "Epoch 27/100\n",
      "474/474 [==============================] - 55s 115ms/step - loss: 0.0578 - accuracy: 0.8013 - recall: 0.9156 - val_loss: 0.3898 - val_accuracy: 0.7850 - val_recall: 0.7719\n",
      "Epoch 28/100\n",
      "474/474 [==============================] - 54s 113ms/step - loss: 0.0560 - accuracy: 0.8012 - recall: 0.9171 - val_loss: 0.3881 - val_accuracy: 0.7719 - val_recall: 0.7857\n",
      "Epoch 29/100\n",
      "474/474 [==============================] - 55s 117ms/step - loss: 0.0595 - accuracy: 0.8026 - recall: 0.9012 - val_loss: 0.4201 - val_accuracy: 0.7652 - val_recall: 0.7673\n",
      "Epoch 30/100\n",
      "474/474 [==============================] - 55s 117ms/step - loss: 0.0566 - accuracy: 0.8128 - recall: 0.9164 - val_loss: 0.4280 - val_accuracy: 0.7715 - val_recall: 0.7926\n",
      "Epoch 31/100\n",
      "474/474 [==============================] - 56s 118ms/step - loss: 0.0535 - accuracy: 0.8175 - recall: 0.9171 - val_loss: 0.4060 - val_accuracy: 0.7643 - val_recall: 0.7535\n",
      "Epoch 32/100\n",
      "474/474 [==============================] - 57s 121ms/step - loss: 0.0566 - accuracy: 0.8000 - recall: 0.9128 - val_loss: 0.4067 - val_accuracy: 0.7715 - val_recall: 0.7696\n",
      "Epoch 33/100\n",
      "474/474 [==============================] - 56s 119ms/step - loss: 0.0529 - accuracy: 0.8182 - recall: 0.9221 - val_loss: 0.3714 - val_accuracy: 0.7988 - val_recall: 0.6866\n",
      "Epoch 34/100\n",
      "474/474 [==============================] - 56s 119ms/step - loss: 0.0519 - accuracy: 0.8259 - recall: 0.9164 - val_loss: 0.4441 - val_accuracy: 0.7499 - val_recall: 0.8088\n",
      "Epoch 35/100\n",
      "474/474 [==============================] - 56s 119ms/step - loss: 0.0493 - accuracy: 0.8304 - recall: 0.9322 - val_loss: 0.3654 - val_accuracy: 0.8104 - val_recall: 0.6452\n",
      "Epoch 36/100\n",
      "474/474 [==============================] - 59s 124ms/step - loss: 0.0506 - accuracy: 0.8323 - recall: 0.9193 - val_loss: 0.4207 - val_accuracy: 0.7935 - val_recall: 0.6982\n",
      "Epoch 37/100\n",
      "474/474 [==============================] - 59s 125ms/step - loss: 0.0513 - accuracy: 0.8296 - recall: 0.9214 - val_loss: 0.4239 - val_accuracy: 0.7453 - val_recall: 0.7972\n",
      "Epoch 38/100\n",
      "474/474 [==============================] - 59s 124ms/step - loss: 0.0483 - accuracy: 0.8377 - recall: 0.9257 - val_loss: 0.4221 - val_accuracy: 0.7876 - val_recall: 0.7327\n",
      "Epoch 39/100\n",
      "474/474 [==============================] - 55s 117ms/step - loss: 0.0483 - accuracy: 0.8414 - recall: 0.9308 - val_loss: 0.3628 - val_accuracy: 0.8256 - val_recall: 0.5876\n",
      "Epoch 40/100\n",
      "474/474 [==============================] - 55s 117ms/step - loss: 0.0470 - accuracy: 0.8468 - recall: 0.9329 - val_loss: 0.5095 - val_accuracy: 0.7142 - val_recall: 0.7189\n",
      "Epoch 41/100\n",
      "474/474 [==============================] - 56s 119ms/step - loss: 0.0685 - accuracy: 0.7677 - recall: 0.9099 - val_loss: 0.3760 - val_accuracy: 0.8096 - val_recall: 0.5760\n",
      "Epoch 42/100\n",
      "474/474 [==============================] - 57s 120ms/step - loss: 0.0449 - accuracy: 0.8533 - recall: 0.9423 - val_loss: 0.3818 - val_accuracy: 0.8389 - val_recall: 0.5576\n",
      "Epoch 43/100\n",
      "474/474 [==============================] - 56s 118ms/step - loss: 0.0489 - accuracy: 0.8312 - recall: 0.9272 - val_loss: 0.4564 - val_accuracy: 0.7677 - val_recall: 0.6221\n",
      "Epoch 44/100\n",
      "474/474 [==============================] - 56s 118ms/step - loss: 0.0453 - accuracy: 0.8531 - recall: 0.9394 - val_loss: 0.3889 - val_accuracy: 0.8269 - val_recall: 0.5968\n",
      "Epoch 45/100\n",
      "474/474 [==============================] - 56s 118ms/step - loss: 0.0423 - accuracy: 0.8591 - recall: 0.9452 - val_loss: 0.3497 - val_accuracy: 0.8406 - val_recall: 0.5783\n",
      "Epoch 46/100\n",
      "474/474 [==============================] - 55s 116ms/step - loss: 0.0486 - accuracy: 0.8315 - recall: 0.9250 - val_loss: 0.4221 - val_accuracy: 0.8195 - val_recall: 0.6175\n",
      "Epoch 47/100\n",
      "474/474 [==============================] - 57s 119ms/step - loss: 0.0467 - accuracy: 0.8520 - recall: 0.9265 - val_loss: 0.4061 - val_accuracy: 0.8138 - val_recall: 0.6590\n",
      "Epoch 48/100\n",
      "474/474 [==============================] - 56s 119ms/step - loss: 0.0429 - accuracy: 0.8612 - recall: 0.9394 - val_loss: 0.4410 - val_accuracy: 0.7954 - val_recall: 0.6406\n",
      "Epoch 49/100\n",
      "474/474 [==============================] - 56s 119ms/step - loss: 0.0441 - accuracy: 0.8591 - recall: 0.9452 - val_loss: 0.4266 - val_accuracy: 0.8100 - val_recall: 0.5853\n",
      "Epoch 50/100\n",
      "474/474 [==============================] - 55s 116ms/step - loss: 0.0386 - accuracy: 0.8770 - recall: 0.9495 - val_loss: 0.4011 - val_accuracy: 0.8396 - val_recall: 0.5438\n",
      "Epoch 51/100\n",
      "474/474 [==============================] - 57s 119ms/step - loss: 0.0405 - accuracy: 0.8638 - recall: 0.9416 - val_loss: 0.4439 - val_accuracy: 0.8028 - val_recall: 0.6590\n",
      "Epoch 52/100\n",
      "474/474 [==============================] - 57s 120ms/step - loss: 0.0420 - accuracy: 0.8691 - recall: 0.9517 - val_loss: 0.4309 - val_accuracy: 0.8216 - val_recall: 0.6290\n",
      "Epoch 53/100\n",
      "474/474 [==============================] - 56s 118ms/step - loss: 0.0400 - accuracy: 0.8675 - recall: 0.9466 - val_loss: 0.4490 - val_accuracy: 0.8235 - val_recall: 0.5092\n",
      "Epoch 54/100\n",
      "474/474 [==============================] - 56s 119ms/step - loss: 0.0369 - accuracy: 0.8809 - recall: 0.9524 - val_loss: 0.4226 - val_accuracy: 0.8377 - val_recall: 0.5369\n",
      "Epoch 55/100\n",
      "474/474 [==============================] - 56s 117ms/step - loss: 0.0358 - accuracy: 0.8848 - recall: 0.9567 - val_loss: 0.4964 - val_accuracy: 0.7973 - val_recall: 0.5806\n",
      "Epoch 56/100\n",
      "474/474 [==============================] - 55s 117ms/step - loss: 0.0375 - accuracy: 0.8757 - recall: 0.9575 - val_loss: 0.4528 - val_accuracy: 0.8148 - val_recall: 0.6313\n",
      "Epoch 57/100\n",
      "474/474 [==============================] - 55s 116ms/step - loss: 0.0382 - accuracy: 0.8768 - recall: 0.9582 - val_loss: 0.4581 - val_accuracy: 0.8060 - val_recall: 0.6959\n",
      "Epoch 58/100\n",
      "474/474 [==============================] - 55s 117ms/step - loss: 0.0346 - accuracy: 0.8864 - recall: 0.9560 - val_loss: 0.4178 - val_accuracy: 0.8398 - val_recall: 0.5553\n",
      "Epoch 59/100\n",
      "474/474 [==============================] - 54s 115ms/step - loss: 0.0354 - accuracy: 0.8826 - recall: 0.9539 - val_loss: 0.4565 - val_accuracy: 0.8265 - val_recall: 0.5138\n",
      "Epoch 60/100\n",
      "474/474 [==============================] - 56s 118ms/step - loss: 0.0426 - accuracy: 0.8572 - recall: 0.9517 - val_loss: 0.4855 - val_accuracy: 0.7996 - val_recall: 0.5369\n",
      "Epoch 61/100\n",
      "474/474 [==============================] - 55s 116ms/step - loss: 0.0416 - accuracy: 0.8573 - recall: 0.9466 - val_loss: 0.4367 - val_accuracy: 0.8512 - val_recall: 0.5184\n",
      "Epoch 62/100\n",
      "474/474 [==============================] - 55s 116ms/step - loss: 0.0373 - accuracy: 0.8854 - recall: 0.9517 - val_loss: 0.5526 - val_accuracy: 0.7918 - val_recall: 0.6889\n",
      "Epoch 63/100\n",
      "474/474 [==============================] - 55s 115ms/step - loss: 0.0366 - accuracy: 0.8802 - recall: 0.9503 - val_loss: 0.4755 - val_accuracy: 0.8203 - val_recall: 0.5968\n",
      "Epoch 64/100\n",
      "474/474 [==============================] - 55s 117ms/step - loss: 0.0340 - accuracy: 0.8872 - recall: 0.9625 - val_loss: 0.4851 - val_accuracy: 0.8472 - val_recall: 0.4355\n",
      "Epoch 65/100\n",
      "474/474 [==============================] - 55s 116ms/step - loss: 0.0360 - accuracy: 0.8821 - recall: 0.9488 - val_loss: 0.5085 - val_accuracy: 0.8055 - val_recall: 0.6475\n",
      "Epoch 66/100\n",
      "474/474 [==============================] - 56s 118ms/step - loss: 0.0328 - accuracy: 0.8957 - recall: 0.9603 - val_loss: 0.4937 - val_accuracy: 0.8273 - val_recall: 0.5599\n",
      "Epoch 67/100\n",
      "474/474 [==============================] - 55s 117ms/step - loss: 0.0347 - accuracy: 0.8859 - recall: 0.9611 - val_loss: 0.4897 - val_accuracy: 0.8406 - val_recall: 0.5461\n",
      "Epoch 68/100\n",
      "474/474 [==============================] - 56s 119ms/step - loss: 0.0343 - accuracy: 0.8876 - recall: 0.9618 - val_loss: 0.4929 - val_accuracy: 0.8205 - val_recall: 0.5276\n",
      "Epoch 69/100\n",
      "474/474 [==============================] - 55s 117ms/step - loss: 0.0405 - accuracy: 0.8744 - recall: 0.9459 - val_loss: 0.5357 - val_accuracy: 0.7918 - val_recall: 0.6267\n",
      "Epoch 70/100\n",
      "474/474 [==============================] - 56s 117ms/step - loss: 0.0436 - accuracy: 0.8592 - recall: 0.9466 - val_loss: 0.5117 - val_accuracy: 0.8102 - val_recall: 0.5346\n",
      "Epoch 71/100\n",
      "474/474 [==============================] - 55s 117ms/step - loss: 0.0371 - accuracy: 0.8800 - recall: 0.9546 - val_loss: 0.5174 - val_accuracy: 0.8571 - val_recall: 0.4055\n",
      "Epoch 72/100\n",
      "474/474 [==============================] - 55s 116ms/step - loss: 0.0343 - accuracy: 0.8885 - recall: 0.9632 - val_loss: 0.4729 - val_accuracy: 0.8455 - val_recall: 0.5115\n",
      "Epoch 73/100\n",
      "474/474 [==============================] - 56s 118ms/step - loss: 0.0313 - accuracy: 0.8991 - recall: 0.9596 - val_loss: 0.4877 - val_accuracy: 0.8436 - val_recall: 0.4954\n",
      "Epoch 74/100\n",
      "474/474 [==============================] - 57s 120ms/step - loss: 0.0302 - accuracy: 0.9012 - recall: 0.9697 - val_loss: 0.5315 - val_accuracy: 0.8609 - val_recall: 0.4101\n",
      "Epoch 75/100\n",
      "474/474 [==============================] - 56s 117ms/step - loss: 0.0328 - accuracy: 0.8971 - recall: 0.9640 - val_loss: 0.5530 - val_accuracy: 0.8134 - val_recall: 0.5622\n",
      "Epoch 76/100\n",
      "474/474 [==============================] - 55s 116ms/step - loss: 0.0309 - accuracy: 0.9035 - recall: 0.9690 - val_loss: 0.5184 - val_accuracy: 0.8353 - val_recall: 0.5138\n",
      "Epoch 77/100\n",
      "474/474 [==============================] - 56s 118ms/step - loss: 0.0299 - accuracy: 0.9072 - recall: 0.9661 - val_loss: 0.5264 - val_accuracy: 0.8516 - val_recall: 0.4677\n",
      "Epoch 78/100\n",
      "474/474 [==============================] - 55s 116ms/step - loss: 0.0306 - accuracy: 0.9043 - recall: 0.9712 - val_loss: 0.5354 - val_accuracy: 0.8523 - val_recall: 0.4332\n",
      "Epoch 79/100\n",
      "474/474 [==============================] - 58s 122ms/step - loss: 0.0337 - accuracy: 0.8909 - recall: 0.9582 - val_loss: 0.4905 - val_accuracy: 0.8322 - val_recall: 0.5645\n",
      "Epoch 80/100\n",
      "474/474 [==============================] - 55s 117ms/step - loss: 0.0358 - accuracy: 0.8847 - recall: 0.9625 - val_loss: 0.5089 - val_accuracy: 0.8292 - val_recall: 0.4700\n",
      "Epoch 81/100\n",
      "474/474 [==============================] - 55s 116ms/step - loss: 0.0385 - accuracy: 0.8678 - recall: 0.9567 - val_loss: 0.4957 - val_accuracy: 0.8432 - val_recall: 0.4309\n",
      "Epoch 82/100\n",
      "474/474 [==============================] - 54s 115ms/step - loss: 0.0313 - accuracy: 0.9006 - recall: 0.9611 - val_loss: 0.5162 - val_accuracy: 0.8491 - val_recall: 0.4539\n",
      "Epoch 83/100\n",
      "474/474 [==============================] - 56s 119ms/step - loss: 0.0404 - accuracy: 0.8748 - recall: 0.9553 - val_loss: 0.5136 - val_accuracy: 0.8313 - val_recall: 0.4977\n",
      "Epoch 84/100\n",
      "474/474 [==============================] - 56s 118ms/step - loss: 0.0398 - accuracy: 0.8717 - recall: 0.9539 - val_loss: 0.5293 - val_accuracy: 0.8434 - val_recall: 0.4724\n",
      "Epoch 85/100\n",
      "474/474 [==============================] - 56s 118ms/step - loss: 0.0326 - accuracy: 0.8947 - recall: 0.9603 - val_loss: 0.5391 - val_accuracy: 0.8292 - val_recall: 0.5023\n",
      "Epoch 86/100\n",
      "474/474 [==============================] - 57s 120ms/step - loss: 0.0320 - accuracy: 0.8976 - recall: 0.9611 - val_loss: 0.5306 - val_accuracy: 0.8415 - val_recall: 0.4977\n",
      "Epoch 87/100\n",
      "474/474 [==============================] - 57s 120ms/step - loss: 0.0284 - accuracy: 0.9104 - recall: 0.9712 - val_loss: 0.5146 - val_accuracy: 0.8434 - val_recall: 0.4194\n",
      "Epoch 88/100\n",
      "474/474 [==============================] - 60s 128ms/step - loss: 0.0281 - accuracy: 0.9082 - recall: 0.9647 - val_loss: 0.5384 - val_accuracy: 0.8573 - val_recall: 0.4194\n",
      "Epoch 89/100\n",
      "474/474 [==============================] - 62s 131ms/step - loss: 0.0315 - accuracy: 0.8966 - recall: 0.9697 - val_loss: 0.5160 - val_accuracy: 0.8391 - val_recall: 0.4931\n",
      "Epoch 90/100\n",
      "474/474 [==============================] - 58s 123ms/step - loss: 0.0325 - accuracy: 0.8981 - recall: 0.9618 - val_loss: 0.5291 - val_accuracy: 0.8451 - val_recall: 0.5092\n",
      "Epoch 91/100\n",
      "474/474 [==============================] - 56s 118ms/step - loss: 0.0310 - accuracy: 0.9047 - recall: 0.9690 - val_loss: 0.5757 - val_accuracy: 0.8635 - val_recall: 0.3479\n",
      "Epoch 92/100\n",
      "474/474 [==============================] - 56s 118ms/step - loss: 0.0407 - accuracy: 0.8802 - recall: 0.9654 - val_loss: 0.5688 - val_accuracy: 0.8425 - val_recall: 0.4539\n",
      "Epoch 93/100\n",
      "474/474 [==============================] - 56s 119ms/step - loss: 0.0310 - accuracy: 0.8994 - recall: 0.9625 - val_loss: 0.5828 - val_accuracy: 0.8533 - val_recall: 0.4539\n",
      "Epoch 94/100\n",
      "474/474 [==============================] - 56s 117ms/step - loss: 0.0302 - accuracy: 0.9053 - recall: 0.9582 - val_loss: 0.5569 - val_accuracy: 0.8580 - val_recall: 0.4355\n",
      "Epoch 95/100\n",
      "474/474 [==============================] - 59s 124ms/step - loss: 0.0247 - accuracy: 0.9238 - recall: 0.9740 - val_loss: 0.6251 - val_accuracy: 0.8632 - val_recall: 0.3917\n",
      "Epoch 96/100\n",
      "474/474 [==============================] - 58s 122ms/step - loss: 0.0263 - accuracy: 0.9160 - recall: 0.9733 - val_loss: 0.6384 - val_accuracy: 0.8649 - val_recall: 0.3756\n",
      "Epoch 97/100\n",
      "474/474 [==============================] - 57s 121ms/step - loss: 0.0298 - accuracy: 0.9015 - recall: 0.9625 - val_loss: 0.5837 - val_accuracy: 0.8216 - val_recall: 0.5369\n",
      "Epoch 98/100\n",
      "474/474 [==============================] - 55s 117ms/step - loss: 0.0299 - accuracy: 0.9107 - recall: 0.9676 - val_loss: 0.6338 - val_accuracy: 0.8512 - val_recall: 0.4516\n",
      "Epoch 99/100\n",
      "474/474 [==============================] - 58s 122ms/step - loss: 0.0282 - accuracy: 0.9112 - recall: 0.9712 - val_loss: 0.6032 - val_accuracy: 0.8575 - val_recall: 0.4286\n",
      "Epoch 100/100\n",
      "474/474 [==============================] - 57s 121ms/step - loss: 0.0288 - accuracy: 0.9103 - recall: 0.9654 - val_loss: 0.5825 - val_accuracy: 0.8157 - val_recall: 0.5138\n"
     ]
    }
   ],
   "source": [
    "history = model.fit(X_train, y_train, epochs=100, class_weight=class_weight, validation_data=(X_test, y_test))"
   ]
  },
  {
   "cell_type": "code",
   "execution_count": 17,
   "metadata": {},
   "outputs": [
    {
     "data": {
      "text/plain": [
       "dict_keys(['loss', 'accuracy', 'recall', 'val_loss', 'val_accuracy', 'val_recall'])"
      ]
     },
     "execution_count": 17,
     "metadata": {},
     "output_type": "execute_result"
    }
   ],
   "source": [
    "history.history.keys()"
   ]
  },
  {
   "cell_type": "code",
   "execution_count": 18,
   "metadata": {},
   "outputs": [
    {
     "data": {
      "image/png": "[encoded data removed]",
      "text/plain": [
       "<Figure size 432x288 with 1 Axes>"
      ]
     },
     "metadata": {
      "needs_background": "light"
     },
     "output_type": "display_data"
    }
   ],
   "source": [
    "# summarize history for accuracy\n",
    "plt.plot(history.history['accuracy'])\n",
    "plt.plot(history.history['val_accuracy'])\n",
    "plt.title('model accuracy')\n",
    "plt.ylabel('accuracy')\n",
    "plt.xlabel('epoch')\n",
    "plt.legend(['Train', 'Test'], loc='upper left')\n",
    "plt.show()"
   ]
  },
  {
   "cell_type": "code",
   "execution_count": 19,
   "metadata": {},
   "outputs": [
    {
     "data": {
      "image/png": "[encoded data removed]",
      "text/plain": [
       "<Figure size 432x288 with 1 Axes>"
      ]
     },
     "metadata": {
      "needs_background": "light"
     },
     "output_type": "display_data"
    }
   ],
   "source": [
    "plt.plot(history.history['loss'])\n",
    "plt.plot(history.history['val_loss'])\n",
    "plt.title('model loss')\n",
    "plt.ylabel('loss')\n",
    "plt.xlabel('epoch')\n",
    "plt.legend(['Train', 'Test'], loc='upper left')\n",
    "plt.show()"
   ]
  },
  {
   "cell_type": "code",
   "execution_count": 21,
   "metadata": {},
   "outputs": [
    {
     "data": {
      "image/png": "[encoded data removed]",
      "text/plain": [
       "<Figure size 432x288 with 1 Axes>"
      ]
     },
     "metadata": {
      "needs_background": "light"
     },
     "output_type": "display_data"
    }
   ],
   "source": [
    "plt.plot(history.history['recall'])\n",
    "plt.plot(history.history['val_recall'])\n",
    "plt.title('model recall')\n",
    "plt.ylabel('recall')\n",
    "plt.xlabel('epoch')\n",
    "plt.legend(['Train', 'Test'], loc='upper left')\n",
    "plt.show()"
   ]
  },
  {
   "cell_type": "code",
   "execution_count": 40,
   "metadata": {},
   "outputs": [
    {
     "name": "stdout",
     "output_type": "stream",
     "text": [
      "Model: \"sequential\"\n",
      "_________________________________________________________________\n",
      "Layer (type)                 Output Shape              Param #   \n",
      "=================================================================\n",
      "conv2d (Conv2D)              (None, 98, 98, 32)        896       \n",
      "_________________________________________________________________\n",
      "activation (Activation)      (None, 98, 98, 32)        0         \n",
      "_________________________________________________________________\n",
      "max_pooling2d (MaxPooling2D) (None, 49, 49, 32)        0         \n",
      "_________________________________________________________________\n",
      "conv2d_1 (Conv2D)            (None, 47, 47, 32)        9248      \n",
      "_________________________________________________________________\n",
      "activation_1 (Activation)    (None, 47, 47, 32)        0         \n",
      "_________________________________________________________________\n",
      "max_pooling2d_1 (MaxPooling2 (None, 23, 23, 32)        0         \n",
      "_________________________________________________________________\n",
      "conv2d_2 (Conv2D)            (None, 21, 21, 64)        18496     \n",
      "_________________________________________________________________\n",
      "activation_2 (Activation)    (None, 21, 21, 64)        0         \n",
      "_________________________________________________________________\n",
      "max_pooling2d_2 (MaxPooling2 (None, 10, 10, 64)        0         \n",
      "_________________________________________________________________\n",
      "flatten (Flatten)            (None, 6400)              0         \n",
      "_________________________________________________________________\n",
      "dense (Dense)                (None, 64)                409664    \n",
      "_________________________________________________________________\n",
      "activation_3 (Activation)    (None, 64)                0         \n",
      "_________________________________________________________________\n",
      "dropout (Dropout)            (None, 64)                0         \n",
      "_________________________________________________________________\n",
      "dense_1 (Dense)              (None, 1)                 65        \n",
      "_________________________________________________________________\n",
      "activation_4 (Activation)    (None, 1)                 0         \n",
      "=================================================================\n",
      "Total params: 438,369\n",
      "Trainable params: 438,369\n",
      "Non-trainable params: 0\n",
      "_________________________________________________________________\n"
     ]
    }
   ],
   "source": [
    "model.summary()"
   ]
  },
  {
   "cell_type": "markdown",
   "metadata": {},
   "source": [
    "## Evalaution"
   ]
  },
  {
   "cell_type": "code",
   "execution_count": 41,
   "metadata": {
    "scrolled": true
   },
   "outputs": [
    {
     "name": "stdout",
     "output_type": "stream",
     "text": [
      "Val  set accuracy 81.80%\n",
      "Val  set recall   51.01%\n",
      "Test set accuracy 81.57%\n",
      "Test set recall   51.38%\n"
     ]
    }
   ],
   "source": [
    "# Validation Set\n",
    "val_loss, val_acc, val_recall = model.evaluate(X_val, y_val, verbose=0)\n",
    "print('Val  set accuracy {:5.2f}%'.format(100*val_acc))\n",
    "print('Val  set recall   {:5.2f}%'.format(100*val_recall))\n",
    "\n",
    "# Test Set\n",
    "test_loss, test_acc, test_recall = model.evaluate(X_test, y_test, verbose=0)\n",
    "print('Test set accuracy {:5.2f}%'.format(100*test_acc))\n",
    "print('Test set recall   {:5.2f}%'.format(100*test_recall))\n"
   ]
  },
  {
   "cell_type": "code",
   "execution_count": 42,
   "metadata": {},
   "outputs": [],
   "source": [
    "def matrix_score(y_test, y_pred):\n",
    "    tn, fp, fn, tp = confusion_matrix(y_test, y_pred).ravel()\n",
    "    print(np.array([[tp, fn],[fp, tn]]))\n",
    "    print('Recall:    {:.3f}'.format(tp/(tp+fn)))\n",
    "    print('Precision: {:.3f}'.format(tp/(tp+fp)))\n",
    "    print('Accuracy:  {:.3f}'.format((tp+tn)/(tp+tn+fp+fn)))\n",
    "    print('ROC AUC:   {:.3f}'.format(roc_auc_score(y_test, y_pred)))"
   ]
  },
  {
   "cell_type": "code",
   "execution_count": 43,
   "metadata": {},
   "outputs": [],
   "source": [
    "threshold = 0.5"
   ]
  },
  {
   "cell_type": "code",
   "execution_count": 44,
   "metadata": {},
   "outputs": [
    {
     "name": "stdout",
     "output_type": "stream",
     "text": [
      "[[ 177  170]\n",
      " [ 519 2919]]\n",
      "Recall:    0.510\n",
      "Precision: 0.254\n",
      "Accuracy:  0.818\n",
      "ROC AUC:   0.680\n"
     ]
    }
   ],
   "source": [
    "# Validation Set\n",
    "result = (model.predict(X_val) > threshold).astype(int)\n",
    "result =[i[0] for i in result]\n",
    "y_val_pred = np.asarray(result)\n",
    "\n",
    "matrix_score(y_val, y_val_pred)"
   ]
  },
  {
   "cell_type": "code",
   "execution_count": 45,
   "metadata": {},
   "outputs": [
    {
     "name": "stdout",
     "output_type": "stream",
     "text": [
      "[[ 223  211]\n",
      " [ 661 3636]]\n",
      "Recall:    0.514\n",
      "Precision: 0.252\n",
      "Accuracy:  0.816\n",
      "ROC AUC:   0.680\n"
     ]
    }
   ],
   "source": [
    "# Test Set\n",
    "result = (model.predict(X_test) > threshold).astype(int)\n",
    "result =[i[0] for i in result]\n",
    "y_test_pred = np.asarray(result)\n",
    "\n",
    "matrix_score(y_test, y_test_pred)"
   ]
  },
  {
   "cell_type": "markdown",
   "metadata": {},
   "source": [
    "## ROC AUC"
   ]
  },
  {
   "cell_type": "code",
   "execution_count": 29,
   "metadata": {},
   "outputs": [],
   "source": [
    "fpr_keras, tpr_keras, thresholds_keras = roc_curve(y_test, y_test_pred)\n",
    "auc_keras = auc(fpr_keras, tpr_keras)"
   ]
  },
  {
   "cell_type": "code",
   "execution_count": 30,
   "metadata": {},
   "outputs": [
    {
     "data": {
      "image/png": "[encoded data removed]",
      "text/plain": [
       "<Figure size 432x288 with 1 Axes>"
      ]
     },
     "metadata": {
      "needs_background": "light"
     },
     "output_type": "display_data"
    }
   ],
   "source": [
    "fpr_keras, tpr_keras, thresholds_keras = roc_curve(y_test, y_test_pred)\n",
    "auc_keras = auc(fpr_keras, tpr_keras)\n",
    "\n",
    "plt.plot([0, 1], [0, 1], 'k--')\n",
    "plt.plot(fpr_keras, tpr_keras, label='Keras (area = {:.3f})'.format(auc_keras))\n",
    "plt.xlabel('False positive rate')\n",
    "plt.ylabel('True positive rate')\n",
    "plt.title('ROC curve')\n",
    "plt.legend(loc='best')\n",
    "plt.show()"
   ]
  },
  {
   "cell_type": "code",
   "execution_count": 31,
   "metadata": {},
   "outputs": [
    {
     "data": {
      "image/png": "[encoded data removed]",
      "text/plain": [
       "<Figure size 432x288 with 1 Axes>"
      ]
     },
     "metadata": {
      "needs_background": "light"
     },
     "output_type": "display_data"
    }
   ],
   "source": [
    "fpr, tpr, threshold = roc_curve(y_test, y_test_pred)\n",
    "roc_auc = auc(fpr, tpr)\n",
    "\n",
    "plt.title('Receiver Operating Characteristic')\n",
    "plt.plot(fpr, tpr, 'b', label = 'AUC = %0.2f' % roc_auc)\n",
    "plt.legend(loc = 'lower right')\n",
    "plt.plot([0, 1], [0, 1],'r--')\n",
    "plt.xlim([0, 1])\n",
    "plt.ylim([0, 1])\n",
    "plt.ylabel('True Positive Rate')\n",
    "plt.xlabel('False Positive Rate')\n",
    "plt.show()"
   ]
  },
  {
   "cell_type": "code",
   "execution_count": null,
   "metadata": {},
   "outputs": [],
   "source": []
  }
 ],
 "metadata": {
  "kernelspec": {
   "display_name": "Python 3",
   "language": "python",
   "name": "python3"
  },
  "language_info": {
   "codemirror_mode": {
    "name": "ipython",
    "version": 3
   },
   "file_extension": ".py",
   "mimetype": "text/x-python",
   "name": "python",
   "nbconvert_exporter": "python",
   "pygments_lexer": "ipython3",
   "version": "3.7.6"
  }
 },
 "nbformat": 4,
 "nbformat_minor": 4
}
