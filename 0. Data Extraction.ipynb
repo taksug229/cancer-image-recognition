{
 "cells": [
  {
   "cell_type": "markdown",
   "metadata": {},
   "source": [
    "## Downloading all of the dataset"
   ]
  },
  {
   "cell_type": "code",
   "execution_count": null,
   "metadata": {},
   "outputs": [],
   "source": [
    "# Download all of the dataset - Option 1\n",
    "!curl -L -O https://isic-archive.com/api/v1/image/download?include=all"
   ]
  },
  {
   "cell_type": "code",
   "execution_count": null,
   "metadata": {},
   "outputs": [],
   "source": [
    "# Download all of the dataset - Option 2\n",
    "!nohup curl -L -O https://isic-archive.com/api/v1/image/download?include=all &"
   ]
  },
  {
   "cell_type": "code",
   "execution_count": null,
   "metadata": {},
   "outputs": [],
   "source": [
    "# Download all of the dataset - Option 3\n",
    "!nohup lftp -c 'set net:idle 10 \n",
    "!      set net:max-retries 0\n",
    "!      set net:reconnect-interval-base 3\n",
    "!      set net:reconnect-interval-max 3\n",
    "!      pget -n 10 -c \"https://isic-archive.com/api/v1/image/download?include=all\"' &"
   ]
  },
  {
   "cell_type": "code",
   "execution_count": null,
   "metadata": {},
   "outputs": [],
   "source": [
    "# Download all of the dataset - Option 4\n",
    "\n",
    "!lftp -c 'set net:idle 10\n",
    "!      set net:max-retries 0\n",
    "!      set net:reconnect-interval-base 3\n",
    "!      set net:reconnect-interval-max 3\n",
    "!      pget -n 10 -c \"https://isic-archive.com/api/v1/image/download?include=all\"'"
   ]
  },
  {
   "cell_type": "code",
   "execution_count": null,
   "metadata": {},
   "outputs": [],
   "source": [
    "# Unzip Downloaded file\n",
    "\n",
    "!unzip <downloaded_file_name>"
   ]
  },
  {
   "cell_type": "code",
   "execution_count": null,
   "metadata": {},
   "outputs": [],
   "source": []
  }
 ],
 "metadata": {
  "kernelspec": {
   "display_name": "Python 3",
   "language": "python",
   "name": "python3"
  },
  "language_info": {
   "codemirror_mode": {
    "name": "ipython",
    "version": 3
   },
   "file_extension": ".py",
   "mimetype": "text/x-python",
   "name": "python",
   "nbconvert_exporter": "python",
   "pygments_lexer": "ipython3",
   "version": "3.7.6"
  }
 },
 "nbformat": 4,
 "nbformat_minor": 4
}
