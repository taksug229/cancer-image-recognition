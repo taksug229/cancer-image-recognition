{
 "cells": [
  {
   "cell_type": "markdown",
   "metadata": {},
   "source": [
    "## Import & Process Image"
   ]
  },
  {
   "cell_type": "code",
   "execution_count": 1,
   "metadata": {},
   "outputs": [],
   "source": [
    "import tensorflow as tf\n",
    "from tensorflow import keras\n",
    "import os\n",
    "import tempfile\n",
    "from tensorflow.keras.models import Sequential, Model, load_model\n",
    "from tensorflow.keras.layers import Conv2D, MaxPooling2D\n",
    "from tensorflow.keras.layers import Activation, Dropout, Flatten, Dense, Input\n",
    "from tensorflow.keras.optimizers import SGD, Adam\n",
    "from tensorflow.keras.applications.vgg16 import VGG16\n",
    "\n",
    "import matplotlib.pyplot as plt\n",
    "from matplotlib.ticker import FormatStrFormatter\n",
    "%matplotlib inline\n",
    "import numpy as np\n",
    "import pandas as pd\n",
    "import seaborn as sns\n",
    "\n",
    "import sklearn\n",
    "from sklearn.metrics import confusion_matrix, roc_auc_score, roc_curve, auc, f1_score\n",
    "from sklearn.metrics import precision_recall_curve, recall_score\n",
    "from sklearn.metrics import ConfusionMatrixDisplay\n",
    "from sklearn.model_selection import train_test_split\n",
    "from sklearn.preprocessing import StandardScaler\n",
    "from sklearn.utils import class_weight\n",
    "\n",
    "import glob\n",
    "\n",
    "from src.functions import *\n",
    "\n",
    "AUTOTUNE = tf.data.experimental.AUTOTUNE ## tf.data transformation parameters\n",
    "\n",
    "pd.options.display.max_columns = 100"
   ]
  },
  {
   "cell_type": "markdown",
   "metadata": {},
   "source": [
    "## Pipeline with Sampleset (Balanced dataset)"
   ]
  },
  {
   "cell_type": "code",
   "execution_count": 3,
   "metadata": {},
   "outputs": [],
   "source": [
    "X = np.load('data_sample/sample_100x100.npy')\n",
    "y = np.load('data_sample/sample_diagnosis.npy')"
   ]
  },
  {
   "cell_type": "code",
   "execution_count": 4,
   "metadata": {},
   "outputs": [],
   "source": [
    "# Train/test split for Train Set\n",
    "XX_train, X_test, yy_train, y_test = train_test_split(X, y, test_size=0.2, random_state=42, stratify=y)\n",
    "X_train, X_val, y_train, y_val = train_test_split(XX_train, yy_train, test_size=0.2, random_state=42, stratify=yy_train)"
   ]
  },
  {
   "cell_type": "markdown",
   "metadata": {},
   "source": [
    "#### Train Model"
   ]
  },
  {
   "cell_type": "code",
   "execution_count": 73,
   "metadata": {},
   "outputs": [],
   "source": [
    "## Import Model\n",
    "model = VGG16(include_top=False, input_shape=(100, 100, 3))\n",
    "\n",
    "## Transfer Learning\n",
    "new_model = Sequential()\n",
    "for layer in model.layers[:-2]: # just exclude the last two FC layers\n",
    "    layer.trainable = False\n",
    "    new_model.add(layer)\n",
    "new_model.add(Conv2D(512, (5, 5), activation = 'relu', padding = 'same'))\n",
    "new_model.add(MaxPooling2D(2,2))\n",
    "new_model.add(Flatten())\n",
    "new_model.add(Dense(128, activation='relu'))\n",
    "new_model.add(Dropout(0.2))\n",
    "new_model.add(Dense(1, activation ='sigmoid'))"
   ]
  },
  {
   "cell_type": "code",
   "execution_count": 74,
   "metadata": {},
   "outputs": [],
   "source": [
    "opt = keras.optimizers.SGD(learning_rate=0.01)\n",
    "new_model.compile(optimizer=opt,\n",
    "              loss='binary_crossentropy',\n",
    "              metrics=['accuracy',tf.keras.metrics.Recall()])"
   ]
  },
  {
   "cell_type": "code",
   "execution_count": 75,
   "metadata": {},
   "outputs": [
    {
     "name": "stdout",
     "output_type": "stream",
     "text": [
      "Epoch 1/10\n",
      "25/25 [==============================] - 18s 724ms/step - loss: 0.6464 - accuracy: 0.6830 - recall_7: 0.6775 - val_loss: 0.9029 - val_accuracy: 0.4100 - val_recall_7: 0.7922\n",
      "Epoch 2/10\n",
      "25/25 [==============================] - 18s 736ms/step - loss: 0.5203 - accuracy: 0.7268 - recall_7: 0.7325 - val_loss: 0.6927 - val_accuracy: 0.6067 - val_recall_7: 0.5195\n",
      "Epoch 3/10\n",
      "25/25 [==============================] - 18s 721ms/step - loss: 0.4275 - accuracy: 0.8108 - recall_7: 0.8000 - val_loss: 0.5951 - val_accuracy: 0.7233 - val_recall_7: 0.2727\n",
      "Epoch 4/10\n",
      "25/25 [==============================] - 18s 709ms/step - loss: 0.4157 - accuracy: 0.8221 - recall_7: 0.8200 - val_loss: 0.8777 - val_accuracy: 0.5200 - val_recall_7: 0.7273\n",
      "Epoch 5/10\n",
      "25/25 [==============================] - 18s 707ms/step - loss: 0.4214 - accuracy: 0.8233 - recall_7: 0.8250 - val_loss: 0.6909 - val_accuracy: 0.6500 - val_recall_7: 0.4675\n",
      "Epoch 6/10\n",
      "25/25 [==============================] - 18s 715ms/step - loss: 0.4086 - accuracy: 0.7982 - recall_7: 0.7875 - val_loss: 1.0621 - val_accuracy: 0.4433 - val_recall_7: 0.8701\n",
      "Epoch 7/10\n",
      "25/25 [==============================] - 18s 708ms/step - loss: 0.3390 - accuracy: 0.8659 - recall_7: 0.8775 - val_loss: 0.6667 - val_accuracy: 0.6733 - val_recall_7: 0.4416\n",
      "Epoch 8/10\n",
      "25/25 [==============================] - 18s 709ms/step - loss: 0.3540 - accuracy: 0.8346 - recall_7: 0.8200 - val_loss: 0.9516 - val_accuracy: 0.5067 - val_recall_7: 0.7273\n",
      "Epoch 9/10\n",
      "25/25 [==============================] - 18s 711ms/step - loss: 0.3188 - accuracy: 0.8659 - recall_7: 0.8600 - val_loss: 0.8730 - val_accuracy: 0.5467 - val_recall_7: 0.6494\n",
      "Epoch 10/10\n",
      "25/25 [==============================] - 18s 709ms/step - loss: 0.3070 - accuracy: 0.8659 - recall_7: 0.8600 - val_loss: 0.9888 - val_accuracy: 0.5300 - val_recall_7: 0.8442\n"
     ]
    }
   ],
   "source": [
    "history = new_model.fit(X_train, y_train, epochs=10, validation_data=(X_test, y_test))"
   ]
  },
  {
   "cell_type": "code",
   "execution_count": 14,
   "metadata": {},
   "outputs": [],
   "source": [
    "# model = Sequential()\n",
    "# model.add(Conv2D(32, (3, 3), input_shape=(100,100,3)))\n",
    "# model.add(Activation('relu'))\n",
    "# model.add(MaxPooling2D(pool_size=(2, 2)))\n",
    "\n",
    "# model.add(Conv2D(32, (3, 3)))\n",
    "# model.add(Activation('relu'))\n",
    "# model.add(MaxPooling2D(pool_size=(2, 2)))\n",
    "\n",
    "# model.add(Conv2D(64, (3, 3)))\n",
    "# model.add(Activation('relu'))\n",
    "# model.add(MaxPooling2D(pool_size=(2, 2)))\n",
    "\n",
    "# model.add(Flatten())  # this converts our 3D feature maps to 1D feature vectors\n",
    "# model.add(Dense(64))\n",
    "# model.add(Activation('relu'))\n",
    "# model.add(Dropout(0.2))\n",
    "# model.add(Dense(1))\n",
    "# model.add(Activation('sigmoid'))"
   ]
  },
  {
   "cell_type": "code",
   "execution_count": 15,
   "metadata": {},
   "outputs": [],
   "source": [
    "# opt = keras.optimizers.SGD(learning_rate=0.01)\n",
    "# model.compile(optimizer=opt,\n",
    "#               loss='binary_crossentropy',\n",
    "#               metrics=['accuracy',tf.keras.metrics.Recall()])"
   ]
  },
  {
   "cell_type": "code",
   "execution_count": 16,
   "metadata": {
    "collapsed": true,
    "jupyter": {
     "outputs_hidden": true
    }
   },
   "outputs": [
    {
     "name": "stdout",
     "output_type": "stream",
     "text": [
      "Epoch 1/20\n",
      "25/25 [==============================] - 4s 142ms/step - loss: 0.6941 - accuracy: 0.4975 - recall_1: 0.9050 - val_loss: 0.7133 - val_accuracy: 0.2567 - val_recall_1: 1.0000\n",
      "Epoch 2/20\n",
      "25/25 [==============================] - 3s 117ms/step - loss: 0.6910 - accuracy: 0.5150 - recall_1: 0.9075 - val_loss: 0.7186 - val_accuracy: 0.2567 - val_recall_1: 1.0000\n",
      "Epoch 3/20\n",
      "25/25 [==============================] - 3s 116ms/step - loss: 0.6899 - accuracy: 0.5113 - recall_1: 0.9325 - val_loss: 0.7065 - val_accuracy: 0.3000 - val_recall_1: 0.8831\n",
      "Epoch 4/20\n",
      "25/25 [==============================] - 3s 117ms/step - loss: 0.6863 - accuracy: 0.5602 - recall_1: 0.7850 - val_loss: 0.7286 - val_accuracy: 0.2567 - val_recall_1: 0.9870\n",
      "Epoch 5/20\n",
      "25/25 [==============================] - 3s 113ms/step - loss: 0.6839 - accuracy: 0.5551 - recall_1: 0.8500 - val_loss: 0.6967 - val_accuracy: 0.4733 - val_recall_1: 0.4156\n",
      "Epoch 6/20\n",
      "25/25 [==============================] - 3s 115ms/step - loss: 0.6834 - accuracy: 0.5677 - recall_1: 0.6650 - val_loss: 0.7136 - val_accuracy: 0.3433 - val_recall_1: 0.7403\n",
      "Epoch 7/20\n",
      "25/25 [==============================] - 3s 114ms/step - loss: 0.6788 - accuracy: 0.5990 - recall_1: 0.7625 - val_loss: 0.7054 - val_accuracy: 0.4267 - val_recall_1: 0.5195\n",
      "Epoch 8/20\n",
      "25/25 [==============================] - 3s 117ms/step - loss: 0.6801 - accuracy: 0.5802 - recall_1: 0.6475 - val_loss: 0.7510 - val_accuracy: 0.3133 - val_recall_1: 0.8831\n",
      "Epoch 9/20\n",
      "25/25 [==============================] - 3s 114ms/step - loss: 0.6752 - accuracy: 0.5852 - recall_1: 0.7550 - val_loss: 0.7125 - val_accuracy: 0.4200 - val_recall_1: 0.5195\n",
      "Epoch 10/20\n",
      "25/25 [==============================] - 3s 116ms/step - loss: 0.6707 - accuracy: 0.5990 - recall_1: 0.7100 - val_loss: 0.7432 - val_accuracy: 0.3467 - val_recall_1: 0.7273\n",
      "Epoch 11/20\n",
      "25/25 [==============================] - 3s 115ms/step - loss: 0.6655 - accuracy: 0.6153 - recall_1: 0.7375 - val_loss: 0.7156 - val_accuracy: 0.4433 - val_recall_1: 0.4545\n",
      "Epoch 12/20\n",
      "25/25 [==============================] - 3s 118ms/step - loss: 0.6615 - accuracy: 0.6216 - recall_1: 0.6900 - val_loss: 0.7724 - val_accuracy: 0.3533 - val_recall_1: 0.7143\n",
      "Epoch 13/20\n",
      "25/25 [==============================] - 3s 114ms/step - loss: 0.6576 - accuracy: 0.6065 - recall_1: 0.6875 - val_loss: 0.8017 - val_accuracy: 0.3367 - val_recall_1: 0.7792\n",
      "Epoch 14/20\n",
      "25/25 [==============================] - 3s 115ms/step - loss: 0.6597 - accuracy: 0.6190 - recall_1: 0.6875 - val_loss: 0.7530 - val_accuracy: 0.4033 - val_recall_1: 0.5584\n",
      "Epoch 15/20\n",
      "25/25 [==============================] - 3s 118ms/step - loss: 0.6504 - accuracy: 0.6028 - recall_1: 0.6675 - val_loss: 0.7227 - val_accuracy: 0.4833 - val_recall_1: 0.4156\n",
      "Epoch 16/20\n",
      "25/25 [==============================] - 3s 114ms/step - loss: 0.6518 - accuracy: 0.6140 - recall_1: 0.6575 - val_loss: 0.7206 - val_accuracy: 0.4933 - val_recall_1: 0.4026\n",
      "Epoch 17/20\n",
      "25/25 [==============================] - 3s 115ms/step - loss: 0.6438 - accuracy: 0.6391 - recall_1: 0.7100 - val_loss: 0.6894 - val_accuracy: 0.5500 - val_recall_1: 0.2468\n",
      "Epoch 18/20\n",
      "25/25 [==============================] - 3s 115ms/step - loss: 0.6393 - accuracy: 0.6378 - recall_1: 0.6800 - val_loss: 0.7173 - val_accuracy: 0.5167 - val_recall_1: 0.3636\n",
      "Epoch 19/20\n",
      "25/25 [==============================] - 3s 127ms/step - loss: 0.6366 - accuracy: 0.6216 - recall_1: 0.6700 - val_loss: 0.7290 - val_accuracy: 0.5033 - val_recall_1: 0.3896\n",
      "Epoch 20/20\n",
      "25/25 [==============================] - 4s 142ms/step - loss: 0.6337 - accuracy: 0.6278 - recall_1: 0.6800 - val_loss: 0.7369 - val_accuracy: 0.4967 - val_recall_1: 0.4026\n"
     ]
    }
   ],
   "source": [
    "# history = model.fit(X_train, y_train, epochs=20, validation_data=(X_test, y_test))"
   ]
  },
  {
   "cell_type": "code",
   "execution_count": 77,
   "metadata": {},
   "outputs": [
    {
     "data": {
      "image/png": "[encoded data removed]",
      "text/plain": [
       "<Figure size 432x288 with 1 Axes>"
      ]
     },
     "metadata": {
      "needs_background": "light"
     },
     "output_type": "display_data"
    }
   ],
   "source": [
    "plot_accuracy(history)"
   ]
  },
  {
   "cell_type": "code",
   "execution_count": 78,
   "metadata": {},
   "outputs": [
    {
     "data": {
      "image/png": "[encoded data removed]",
      "text/plain": [
       "<Figure size 432x288 with 1 Axes>"
      ]
     },
     "metadata": {
      "needs_background": "light"
     },
     "output_type": "display_data"
    }
   ],
   "source": [
    "plot_loss(history)"
   ]
  },
  {
   "cell_type": "code",
   "execution_count": 82,
   "metadata": {},
   "outputs": [
    {
     "data": {
      "image/png": "[encoded data removed]",
      "text/plain": [
       "<Figure size 432x288 with 1 Axes>"
      ]
     },
     "metadata": {
      "needs_background": "light"
     },
     "output_type": "display_data"
    }
   ],
   "source": [
    "plot_recall(history, 'recall_7')"
   ]
  },
  {
   "cell_type": "code",
   "execution_count": 81,
   "metadata": {},
   "outputs": [
    {
     "data": {
      "text/plain": [
       "dict_keys(['loss', 'accuracy', 'recall_7', 'val_loss', 'val_accuracy', 'val_recall_7'])"
      ]
     },
     "execution_count": 81,
     "metadata": {},
     "output_type": "execute_result"
    }
   ],
   "source": [
    "history.history.keys()"
   ]
  },
  {
   "cell_type": "markdown",
   "metadata": {},
   "source": [
    "## Evalaution"
   ]
  },
  {
   "cell_type": "code",
   "execution_count": 83,
   "metadata": {
    "scrolled": true
   },
   "outputs": [
    {
     "name": "stdout",
     "output_type": "stream",
     "text": [
      "Val  set accuracy 77.50%\n",
      "Val  set recall   91.00%\n",
      "Test set accuracy 53.00%\n",
      "Test set recall   84.42%\n"
     ]
    }
   ],
   "source": [
    "# Validation Set\n",
    "val_loss, val_acc, val_recall = new_model.evaluate(X_val, y_val, verbose=0)\n",
    "print('Val  set accuracy {:5.2f}%'.format(100*val_acc))\n",
    "print('Val  set recall   {:5.2f}%'.format(100*val_recall))\n",
    "\n",
    "# Test Set\n",
    "test_loss, test_acc, test_recall = new_model.evaluate(X_test, y_test, verbose=0)\n",
    "print('Test set accuracy {:5.2f}%'.format(100*test_acc))\n",
    "print('Test set recall   {:5.2f}%'.format(100*test_recall))\n"
   ]
  },
  {
   "cell_type": "code",
   "execution_count": 84,
   "metadata": {},
   "outputs": [],
   "source": [
    "def matrix_score(y_test, y_pred):\n",
    "    tn, fp, fn, tp = confusion_matrix(y_test, y_pred).ravel()\n",
    "    print(np.array([[tp, fn],[fp, tn]]))\n",
    "    print('Recall:    {:.3f}'.format(tp/(tp+fn)))\n",
    "    print('Precision: {:.3f}'.format(tp/(tp+fp)))\n",
    "    print('Accuracy:  {:.3f}'.format((tp+tn)/(tp+tn+fp+fn)))\n",
    "    print('ROC AUC:   {:.3f}'.format(roc_auc_score(y_test, y_pred)))"
   ]
  },
  {
   "cell_type": "code",
   "execution_count": 144,
   "metadata": {},
   "outputs": [],
   "source": [
    "threshold = 0.3"
   ]
  },
  {
   "cell_type": "code",
   "execution_count": 145,
   "metadata": {},
   "outputs": [
    {
     "name": "stdout",
     "output_type": "stream",
     "text": [
      "[[98  2]\n",
      " [53 47]]\n",
      "Recall:    0.980\n",
      "Precision: 0.649\n",
      "Accuracy:  0.725\n",
      "ROC AUC:   0.725\n"
     ]
    }
   ],
   "source": [
    "# Validation Set\n",
    "result = (new_model.predict(X_val) > threshold).astype(int)\n",
    "result =[i[0] for i in result]\n",
    "y_val_pred = np.asarray(result)\n",
    "\n",
    "matrix_score(y_val, y_val_pred)"
   ]
  },
  {
   "cell_type": "code",
   "execution_count": 146,
   "metadata": {},
   "outputs": [
    {
     "name": "stdout",
     "output_type": "stream",
     "text": [
      "[[ 74   3]\n",
      " [189  34]]\n",
      "Recall:    0.961\n",
      "Precision: 0.281\n",
      "Accuracy:  0.360\n",
      "ROC AUC:   0.557\n"
     ]
    }
   ],
   "source": [
    "# Test Set\n",
    "result = (new_model.predict(X_test) > threshold).astype(int)\n",
    "result =[i[0] for i in result]\n",
    "y_test_pred = np.asarray(result)\n",
    "\n",
    "matrix_score(y_test, y_test_pred)"
   ]
  },
  {
   "cell_type": "markdown",
   "metadata": {},
   "source": [
    "## ROC AUC Curve"
   ]
  },
  {
   "cell_type": "code",
   "execution_count": 102,
   "metadata": {},
   "outputs": [],
   "source": [
    "y_val_pred_keras = new_model.predict(X_val).ravel()"
   ]
  },
  {
   "cell_type": "code",
   "execution_count": 96,
   "metadata": {},
   "outputs": [],
   "source": [
    "y_pred_keras = new_model.predict(X_test).ravel()"
   ]
  },
  {
   "cell_type": "code",
   "execution_count": 103,
   "metadata": {},
   "outputs": [
    {
     "data": {
      "image/png": "[encoded data removed]",
      "text/plain": [
       "<Figure size 432x288 with 1 Axes>"
      ]
     },
     "metadata": {
      "needs_background": "light"
     },
     "output_type": "display_data"
    }
   ],
   "source": [
    "fpr_keras, tpr_keras, thresholds_keras = roc_curve(y_test, y_pred_keras)\n",
    "auc_keras = auc(fpr_keras, tpr_keras)\n",
    "\n",
    "plt.plot([0, 1], [0, 1], 'k--')\n",
    "plt.plot(fpr_keras, tpr_keras, label='Keras (area = {:.3f})'.format(auc_keras))\n",
    "plt.xlabel('False positive rate')\n",
    "plt.ylabel('True positive rate')\n",
    "plt.title('ROC curve')\n",
    "plt.legend(loc='best')\n",
    "plt.show()"
   ]
  }
 ],
 "metadata": {
  "kernelspec": {
   "display_name": "Python 3",
   "language": "python",
   "name": "python3"
  },
  "language_info": {
   "codemirror_mode": {
    "name": "ipython",
    "version": 3
   },
   "file_extension": ".py",
   "mimetype": "text/x-python",
   "name": "python",
   "nbconvert_exporter": "python",
   "pygments_lexer": "ipython3",
   "version": "3.7.6"
  }
 },
 "nbformat": 4,
 "nbformat_minor": 4
}
