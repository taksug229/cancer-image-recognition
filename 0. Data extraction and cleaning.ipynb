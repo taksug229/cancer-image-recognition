{
 "cells": [
  {
   "cell_type": "markdown",
   "metadata": {},
   "source": [
    "## Downloading all of the dataset"
   ]
  },
  {
   "cell_type": "code",
   "execution_count": null,
   "metadata": {},
   "outputs": [],
   "source": [
    "# Download all of the dataset - Option 1\n",
    "!curl -L -O https://isic-archive.com/api/v1/image/download?include=all"
   ]
  },
  {
   "cell_type": "code",
   "execution_count": null,
   "metadata": {},
   "outputs": [],
   "source": [
    "# Download all of the dataset - Option 2\n",
    "!nohup curl -L -O https://isic-archive.com/api/v1/image/download?include=all &"
   ]
  },
  {
   "cell_type": "code",
   "execution_count": null,
   "metadata": {},
   "outputs": [],
   "source": [
    "# Download all of the dataset - Option 3\n",
    "!nohup lftp -c 'set net:idle 10 \n",
    "!      set net:max-retries 0\n",
    "!      set net:reconnect-interval-base 3\n",
    "!      set net:reconnect-interval-max 3\n",
    "!      pget -n 10 -c \"https://isic-archive.com/api/v1/image/download?include=all\"' &"
   ]
  },
  {
   "cell_type": "code",
   "execution_count": null,
   "metadata": {},
   "outputs": [],
   "source": [
    "# Download all of the dataset - Option 4\n",
    "\n",
    "!lftp -c 'set net:idle 10\n",
    "!      set net:max-retries 0\n",
    "!      set net:reconnect-interval-base 3\n",
    "!      set net:reconnect-interval-max 3\n",
    "!      pget -n 10 -c \"https://isic-archive.com/api/v1/image/download?include=all\"'"
   ]
  },
  {
   "cell_type": "code",
   "execution_count": null,
   "metadata": {},
   "outputs": [],
   "source": [
    "# Unzip Downloaded file\n",
    "\n",
    "!unzip <downloaded_file_name> # Unzip the downloaded images"
   ]
  },
  {
   "cell_type": "markdown",
   "metadata": {},
   "source": [
    "## Data Cleaning"
   ]
  },
  {
   "cell_type": "code",
   "execution_count": 2,
   "metadata": {},
   "outputs": [],
   "source": [
    "import glob\n",
    "import pandas as pd\n",
    "import numpy as np\n",
    "import tensorflow as tf\n",
    "\n",
    "pd.options.display.max_columns = 100\n",
    "\n",
    "from src.functions import preprocess_image, load_and_preprocess_image, create_X_y"
   ]
  },
  {
   "cell_type": "code",
   "execution_count": 18,
   "metadata": {},
   "outputs": [],
   "source": [
    "## This code will only work if you have all the images already downloaded on your local drive\n",
    "img_url = sorted(glob.glob('data/ISIC-images'+\"/*.jpg\"))\n",
    "csv_names = [i for i in glob.glob('data'+'/*.csv')]\n",
    "df = pd.read_csv('data/metadata.csv')\n",
    "\n",
    "short=[]\n",
    "for i in img_url:\n",
    "    short.append(i[17:-4])\n",
    "img_name = pd.Series(short,name='name')\n",
    "\n",
    "df = pd.merge(df, img_name, on='name', how='inner')\n",
    "df['image'] = img_url\n",
    "\n",
    "df = df[['meta.clinical.diagnosis', 'image']]\n",
    "df_na = df.copy()\n",
    "df = df[df['meta.clinical.diagnosis'].notna()].reset_index(drop=True)\n",
    "df.columns = ['diagnosis', 'image']\n",
    "df['diagnosis'] = (df['diagnosis'] == 'melanoma').astype(int)"
   ]
  },
  {
   "cell_type": "markdown",
   "metadata": {},
   "source": [
    "## Deleted null values from dataset"
   ]
  },
  {
   "cell_type": "code",
   "execution_count": 3,
   "metadata": {},
   "outputs": [
    {
     "data": {
      "text/html": [
       "<div>\n",
       "<style scoped>\n",
       "    .dataframe tbody tr th:only-of-type {\n",
       "        vertical-align: middle;\n",
       "    }\n",
       "\n",
       "    .dataframe tbody tr th {\n",
       "        vertical-align: top;\n",
       "    }\n",
       "\n",
       "    .dataframe thead th {\n",
       "        text-align: right;\n",
       "    }\n",
       "</style>\n",
       "<table border=\"1\" class=\"dataframe\">\n",
       "  <thead>\n",
       "    <tr style=\"text-align: right;\">\n",
       "      <th></th>\n",
       "      <th>meta.clinical.diagnosis</th>\n",
       "      <th>image</th>\n",
       "    </tr>\n",
       "  </thead>\n",
       "  <tbody>\n",
       "    <tr>\n",
       "      <th>257</th>\n",
       "      <td>NaN</td>\n",
       "      <td>data/ISIC-images/ISIC_0000257.jpg</td>\n",
       "    </tr>\n",
       "    <tr>\n",
       "      <th>454</th>\n",
       "      <td>NaN</td>\n",
       "      <td>data/ISIC-images/ISIC_0000454.jpg</td>\n",
       "    </tr>\n",
       "    <tr>\n",
       "      <th>9892</th>\n",
       "      <td>NaN</td>\n",
       "      <td>data/ISIC-images/ISIC_0009892.jpg</td>\n",
       "    </tr>\n",
       "    <tr>\n",
       "      <th>9893</th>\n",
       "      <td>NaN</td>\n",
       "      <td>data/ISIC-images/ISIC_0009893.jpg</td>\n",
       "    </tr>\n",
       "    <tr>\n",
       "      <th>9924</th>\n",
       "      <td>NaN</td>\n",
       "      <td>data/ISIC-images/ISIC_0009924.jpg</td>\n",
       "    </tr>\n",
       "    <tr>\n",
       "      <th>...</th>\n",
       "      <td>...</td>\n",
       "      <td>...</td>\n",
       "    </tr>\n",
       "    <tr>\n",
       "      <th>13786</th>\n",
       "      <td>NaN</td>\n",
       "      <td>data/ISIC-images/ISIC_0024202.jpg</td>\n",
       "    </tr>\n",
       "    <tr>\n",
       "      <th>13787</th>\n",
       "      <td>NaN</td>\n",
       "      <td>data/ISIC-images/ISIC_0024203.jpg</td>\n",
       "    </tr>\n",
       "    <tr>\n",
       "      <th>13788</th>\n",
       "      <td>NaN</td>\n",
       "      <td>data/ISIC-images/ISIC_0024204.jpg</td>\n",
       "    </tr>\n",
       "    <tr>\n",
       "      <th>13789</th>\n",
       "      <td>NaN</td>\n",
       "      <td>data/ISIC-images/ISIC_0024205.jpg</td>\n",
       "    </tr>\n",
       "    <tr>\n",
       "      <th>13790</th>\n",
       "      <td>NaN</td>\n",
       "      <td>data/ISIC-images/ISIC_0024206.jpg</td>\n",
       "    </tr>\n",
       "  </tbody>\n",
       "</table>\n",
       "<p>249 rows × 2 columns</p>\n",
       "</div>"
      ],
      "text/plain": [
       "      meta.clinical.diagnosis                              image\n",
       "257                       NaN  data/ISIC-images/ISIC_0000257.jpg\n",
       "454                       NaN  data/ISIC-images/ISIC_0000454.jpg\n",
       "9892                      NaN  data/ISIC-images/ISIC_0009892.jpg\n",
       "9893                      NaN  data/ISIC-images/ISIC_0009893.jpg\n",
       "9924                      NaN  data/ISIC-images/ISIC_0009924.jpg\n",
       "...                       ...                                ...\n",
       "13786                     NaN  data/ISIC-images/ISIC_0024202.jpg\n",
       "13787                     NaN  data/ISIC-images/ISIC_0024203.jpg\n",
       "13788                     NaN  data/ISIC-images/ISIC_0024204.jpg\n",
       "13789                     NaN  data/ISIC-images/ISIC_0024205.jpg\n",
       "13790                     NaN  data/ISIC-images/ISIC_0024206.jpg\n",
       "\n",
       "[249 rows x 2 columns]"
      ]
     },
     "execution_count": 3,
     "metadata": {},
     "output_type": "execute_result"
    }
   ],
   "source": [
    "df_na[df_na['meta.clinical.diagnosis'].isna()]"
   ]
  },
  {
   "cell_type": "markdown",
   "metadata": {},
   "source": [
    "## Create Test Set and Save processed images"
   ]
  },
  {
   "cell_type": "code",
   "execution_count": 27,
   "metadata": {},
   "outputs": [],
   "source": [
    "# Code to create X and y.\n",
    "X, y = create_X_y(df)"
   ]
  },
  {
   "cell_type": "code",
   "execution_count": 22,
   "metadata": {},
   "outputs": [],
   "source": [
    "# Save to local drive\n",
    "np.save('data/100x100.npy', X)\n",
    "np.save('data/diagnosis.npy', y)"
   ]
  }
 ],
 "metadata": {
  "kernelspec": {
   "display_name": "Python 3",
   "language": "python",
   "name": "python3"
  },
  "language_info": {
   "codemirror_mode": {
    "name": "ipython",
    "version": 3
   },
   "file_extension": ".py",
   "mimetype": "text/x-python",
   "name": "python",
   "nbconvert_exporter": "python",
   "pygments_lexer": "ipython3",
   "version": "3.7.6"
  }
 },
 "nbformat": 4,
 "nbformat_minor": 4
}
